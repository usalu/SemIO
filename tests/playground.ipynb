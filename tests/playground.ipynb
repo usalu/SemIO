{
 "cells": [
  {
   "attachments": {},
   "cell_type": "markdown",
   "metadata": {},
   "source": [
    "# Playground\n",
    "Assuming that semio was installed over the whl. In order to do so run,\n",
    "`poetry build` in `src/python/core`\n"
   ]
  },
  {
   "cell_type": "code",
   "execution_count": 3,
   "metadata": {},
   "outputs": [],
   "source": [
    "# from google.protobuf.json_format import MessageToDict, MessageToJson\n",
    "# from semio.model import Any,Representation\n",
    "\n",
    "# #protobuf_to_dict(Any(value=b'330'))\n",
    "# MessageToJson(message=Any(value=b'330', type_url=))"
   ]
  },
  {
   "cell_type": "code",
   "execution_count": 4,
   "metadata": {},
   "outputs": [
    {
     "data": {
      "text/plain": [
       "layout {\n",
       "  sobjects {\n",
       "    id: \"1\"\n",
       "    url: \"elements/RectangleWithMiter.gh\"\n",
       "    pose {\n",
       "      point_of_view {\n",
       "        x: -400\n",
       "        y: 10\n",
       "        z: -5\n",
       "      }\n",
       "      view {\n",
       "        w: 1\n",
       "      }\n",
       "    }\n",
       "    parameters {\n",
       "      key: \"Length\"\n",
       "      value: \"330\"\n",
       "    }\n",
       "  }\n",
       "  sobjects {\n",
       "    id: \"2\"\n",
       "    url: \"elements/RectangleWithMiter.gh\"\n",
       "    pose {\n",
       "      point_of_view {\n",
       "        x: 30\n",
       "        y: 500\n",
       "        z: 20\n",
       "      }\n",
       "      view {\n",
       "        x: 0.707\n",
       "        y: -0.707\n",
       "      }\n",
       "    }\n",
       "    parameters {\n",
       "      key: \"Length\"\n",
       "      value: \"220\"\n",
       "    }\n",
       "  }\n",
       "  attractions {\n",
       "    id: \"1\"\n",
       "    attractor {\n",
       "      patricipant_id: \"1\"\n",
       "    }\n",
       "    attracted {\n",
       "      patricipant_id: \"2\"\n",
       "    }\n",
       "  }\n",
       "  root_sobject_id: \"1\"\n",
       "  attractionTrees {\n",
       "    attraction_id: \"1\"\n",
       "  }\n",
       "}"
      ]
     },
     "execution_count": 4,
     "metadata": {},
     "output_type": "execute_result"
    }
   ],
   "source": [
    "from semio.model import Point,Pose,Quaternion,Sobject,Attraction,AttractionTree,AttractionParticipant,Layout, Any\n",
    "from semio.assembler import LayoutDesignRequest, AssemblerProxy\n",
    "\n",
    "layout=Layout(\n",
    "    sobjects=[\n",
    "        Sobject(id='1',url=\"elements/RectangleWithMiter.gh\",pose=Pose(point_of_view=Point(x=-400,y=10,z=-5),view=Quaternion(w=1,x=0,y=0,z=0)),parameters={'Length':'330'}),\n",
    "        Sobject(id='2',url=\"elements/RectangleWithMiter.gh\",pose=Pose(point_of_view=Point(x=30,y=500,z=20),view=Quaternion(w=0,x=0.707,y=-0.707,z=0)),parameters={'Length':'220'})\n",
    "    ],\n",
    "    attractions=[\n",
    "        Attraction(id='1',attractor=AttractionParticipant(patricipant_id='1'),attracted=AttractionParticipant(patricipant_id='2'))\n",
    "    ],\n",
    "    root_sobject_id='1',\n",
    "    attractionTrees=[\n",
    "        AttractionTree(attraction_id='1')\n",
    "    ]\n",
    ")\n",
    "layoutDesignRequest = LayoutDesignRequest(layout=layout)\n",
    "layoutDesignRequest\n",
    "\n",
    "# assemblerProxy = AssemblerProxy()\n",
    "# assemblerProxy.LayoutDesign(request=layoutDesignRequest)"
   ]
  },
  {
   "cell_type": "code",
   "execution_count": 5,
   "metadata": {},
   "outputs": [
    {
     "data": {
      "text/plain": [
       "<SocketContext(connect='tcp://localhost:5556')>"
      ]
     },
     "execution_count": 5,
     "metadata": {},
     "output_type": "execute_result"
    }
   ],
   "source": [
    "import zmq\n",
    "\n",
    "context = zmq.Context()\n",
    "socket = context.socket(zmq.REQ)\n",
    "socket.connect(\"tcp://localhost:5556\")"
   ]
  },
  {
   "cell_type": "code",
   "execution_count": 6,
   "metadata": {},
   "outputs": [
    {
     "ename": "TypeError",
     "evalue": "layout {\n  sobjects {\n    id: \"1\"\n    url: \"elements/RectangleWithMiter.gh\"\n    pose {\n      point_of_view {\n        x: -400\n        y: 10\n        z: -5\n      }\n      view {\n        w: 1\n      }\n    }\n    parameters {\n      key: \"Length\"\n      value: \"330\"\n    }\n  }\n  sobjects {\n    id: \"2\"\n    url: \"elements/RectangleWithMiter.gh\"\n    pose {\n      point_of_view {\n        x: 30\n        y: 500\n        z: 20\n      }\n      view {\n        x: 0.707\n        y: -0.707\n      }\n    }\n    parameters {\n      key: \"Length\"\n      value: \"220\"\n    }\n  }\n  attractions {\n    id: \"1\"\n    attractor {\n      patricipant_id: \"1\"\n    }\n    attracted {\n      patricipant_id: \"2\"\n    }\n  }\n  root_sobject_id: \"1\"\n  attractionTrees {\n    attraction_id: \"1\"\n  }\n}\n does not provide a buffer interface.",
     "output_type": "error",
     "traceback": [
      "\u001b[1;31m---------------------------------------------------------------------------\u001b[0m",
      "\u001b[1;31mTypeError\u001b[0m                                 Traceback (most recent call last)",
      "Cell \u001b[1;32mIn [6], line 1\u001b[0m\n\u001b[1;32m----> 1\u001b[0m socket\u001b[39m.\u001b[39;49msend(layoutDesignRequest)\n\u001b[0;32m      3\u001b[0m \u001b[39m#  Get the reply.\u001b[39;00m\n\u001b[0;32m      4\u001b[0m message \u001b[39m=\u001b[39m socket\u001b[39m.\u001b[39mrecv()\n",
      "File \u001b[1;32mc:\\Users\\Ueli\\.conda\\envs\\semio\\lib\\site-packages\\zmq\\sugar\\socket.py:618\u001b[0m, in \u001b[0;36mSocket.send\u001b[1;34m(self, data, flags, copy, track, routing_id, group)\u001b[0m\n\u001b[0;32m    611\u001b[0m         data \u001b[39m=\u001b[39m zmq\u001b[39m.\u001b[39mFrame(\n\u001b[0;32m    612\u001b[0m             data,\n\u001b[0;32m    613\u001b[0m             track\u001b[39m=\u001b[39mtrack,\n\u001b[0;32m    614\u001b[0m             copy\u001b[39m=\u001b[39mcopy \u001b[39mor\u001b[39;00m \u001b[39mNone\u001b[39;00m,\n\u001b[0;32m    615\u001b[0m             copy_threshold\u001b[39m=\u001b[39m\u001b[39mself\u001b[39m\u001b[39m.\u001b[39mcopy_threshold,\n\u001b[0;32m    616\u001b[0m         )\n\u001b[0;32m    617\u001b[0m     data\u001b[39m.\u001b[39mgroup \u001b[39m=\u001b[39m group\n\u001b[1;32m--> 618\u001b[0m \u001b[39mreturn\u001b[39;00m \u001b[39msuper\u001b[39;49m()\u001b[39m.\u001b[39;49msend(data, flags\u001b[39m=\u001b[39;49mflags, copy\u001b[39m=\u001b[39;49mcopy, track\u001b[39m=\u001b[39;49mtrack)\n",
      "File \u001b[1;32mzmq\\backend\\cython\\socket.pyx:740\u001b[0m, in \u001b[0;36mzmq.backend.cython.socket.Socket.send\u001b[1;34m()\u001b[0m\n",
      "File \u001b[1;32mzmq\\backend\\cython\\socket.pyx:787\u001b[0m, in \u001b[0;36mzmq.backend.cython.socket.Socket.send\u001b[1;34m()\u001b[0m\n",
      "File \u001b[1;32mzmq\\backend\\cython\\socket.pyx:231\u001b[0m, in \u001b[0;36mzmq.backend.cython.socket._send_copy\u001b[1;34m()\u001b[0m\n",
      "File \u001b[1;32mc:\\Users\\Ueli\\.conda\\envs\\semio\\lib\\site-packages\\zmq\\utils\\buffers.pxd:156\u001b[0m, in \u001b[0;36mzmq.utils.buffers.asbuffer_r\u001b[1;34m()\u001b[0m\n",
      "File \u001b[1;32mc:\\Users\\Ueli\\.conda\\envs\\semio\\lib\\site-packages\\zmq\\utils\\buffers.pxd:128\u001b[0m, in \u001b[0;36mzmq.utils.buffers.asbuffer\u001b[1;34m()\u001b[0m\n",
      "\u001b[1;31mTypeError\u001b[0m: layout {\n  sobjects {\n    id: \"1\"\n    url: \"elements/RectangleWithMiter.gh\"\n    pose {\n      point_of_view {\n        x: -400\n        y: 10\n        z: -5\n      }\n      view {\n        w: 1\n      }\n    }\n    parameters {\n      key: \"Length\"\n      value: \"330\"\n    }\n  }\n  sobjects {\n    id: \"2\"\n    url: \"elements/RectangleWithMiter.gh\"\n    pose {\n      point_of_view {\n        x: 30\n        y: 500\n        z: 20\n      }\n      view {\n        x: 0.707\n        y: -0.707\n      }\n    }\n    parameters {\n      key: \"Length\"\n      value: \"220\"\n    }\n  }\n  attractions {\n    id: \"1\"\n    attractor {\n      patricipant_id: \"1\"\n    }\n    attracted {\n      patricipant_id: \"2\"\n    }\n  }\n  root_sobject_id: \"1\"\n  attractionTrees {\n    attraction_id: \"1\"\n  }\n}\n does not provide a buffer interface."
     ]
    }
   ],
   "source": [
    "socket.send(layoutDesignRequest)\n",
    "message = socket.recv()\n",
    "print(\"Received reply %s [ %s ]\" % (layoutDesignRequest, message)) "
   ]
  }
 ],
 "metadata": {
  "kernelspec": {
   "display_name": "semio",
   "language": "python",
   "name": "python3"
  },
  "language_info": {
   "codemirror_mode": {
    "name": "ipython",
    "version": 3
   },
   "file_extension": ".py",
   "mimetype": "text/x-python",
   "name": "python",
   "nbconvert_exporter": "python",
   "pygments_lexer": "ipython3",
   "version": "3.10.5"
  },
  "orig_nbformat": 4,
  "vscode": {
   "interpreter": {
    "hash": "6fe1706fc952e1fa97ed354812fc5bf2716c2c3db4eca3b0a8e0380eb2c25a23"
   }
  }
 },
 "nbformat": 4,
 "nbformat_minor": 2
}
