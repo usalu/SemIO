{
 "cells": [
  {
   "attachments": {},
   "cell_type": "markdown",
   "metadata": {},
   "source": [
    "# Playground\n",
    "Assuming that semio was installed over the whl. In order to do so run,\n",
    "`poetry build` in `src/python/core`\n"
   ]
  },
  {
   "cell_type": "code",
   "execution_count": 31,
   "metadata": {},
   "outputs": [
    {
     "data": {
      "text/plain": [
       "model.v1.model_pb2.Plan"
      ]
     },
     "execution_count": 31,
     "metadata": {},
     "output_type": "execute_result"
    }
   ],
   "source": [
    "from semio.geometry import Point\n",
    "from semio.model import Pose,Sobject, Platform, Parameter, Value, Representation,Plan\n",
    "from semio.utils import MessageToJson, hashObject\n",
    "\n",
    "parameter = Parameter(name=\"Length\",value=Value(number=23.456))\n",
    "json = MessageToJson(parameter)\n",
    "json\n",
    "\n",
    "p1 = Plan(uri=\"Test\",parameters=[parameter])\n",
    "p2 = Plan(uri=\"Test\")\n",
    "set((hashObject(p1),hashObject(p2)))\n",
    "\n",
    "\n",
    "s1 = Sobject(plan=p1)\n",
    "s2 = Sobject(plan=p2)\n",
    "type(s1.ListFields()[0][1:][0])"
   ]
  },
  {
   "cell_type": "code",
   "execution_count": null,
   "metadata": {},
   "outputs": [],
   "source": [
    "s3 = Sobject(**)\n",
    "s3"
   ]
  },
  {
   "cell_type": "code",
   "execution_count": 68,
   "metadata": {},
   "outputs": [],
   "source": [
    "from multipledispatch import dispatch\n",
    "\n",
    "from semio.geometry import Point,Quaternion\n",
    "from semio.model import Pose,Sobject\n",
    "\n",
    "from mathutils import Vector as BlenderVector, Quaternion as BlenderQuaternion,Euler as BlenderEuler ,  Matrix as BlenderMatrix\n",
    "from numpy import shape,array,matmul,dot, allclose\n",
    "\n",
    "class BlenderMathConverter:\n",
    "\n",
    "    # Semio to Blender\n",
    "    @dispatch(Quaternion)\n",
    "    @staticmethod\n",
    "    def convert(view:Quaternion):\n",
    "        return BlenderQuaternion((view.w,view.x,view.y,view.z))\n",
    "\n",
    "    @dispatch(Point)\n",
    "    @staticmethod\n",
    "    def convert(point:Point):\n",
    "        return BlenderVector((point.x,point.y,point.z))\n",
    "\n",
    "    @dispatch(Pose)\n",
    "    @staticmethod\n",
    "    def convert(pose:Pose):\n",
    "        origin = convert(pose.point_of_view)\n",
    "        quaternion = convert(pose.view)\n",
    "        matrix = quaternion.to_matrix().to_4x4()\n",
    "        matrix[0][3]=origin.x\n",
    "        matrix[1][3]=origin.y\n",
    "        matrix[2][3]=origin.z\n",
    "        return matrix\n",
    "\n",
    "    # Blender to Semio\n",
    "\n",
    "    @dispatch(BlenderVector)\n",
    "    @staticmethod\n",
    "    def convert(vector:Point):\n",
    "        return Point(x=vector.x,y=vector.y,z=vector.z)\n",
    "\n",
    "def applyTransforms(vector:BlenderVector,transform:BlenderMatrix):\n",
    "        \"\"\"Apply transformation to a point of view.\"\"\"\n",
    "        return Vector(matmul(array(transform),array(vector.to_4d())))\n",
    "\n",
    "def getLocalPointOfView(pose:Pose ,worldPointOfView:Point, considerPointOfView = True, considerView = True)->Point:\n",
    "    \"\"\"\n",
    "    Get another point of view from a world perspective in a local perspective.\n",
    "    Parameters:\n",
    "    worldPointOfViewLike: Point of view from world view.\n",
    "    \"\"\"\n",
    "    transformedPointOfView = BlenderMathConverter.convert(worldPointOfView)\n",
    "    if considerPointOfView:\n",
    "        transformedPointOfView = applyTransforms(transformedPointOfView,BlenderMatrix.Translation(-BlenderMathConverter.convert(pose.point_of_view)))\n",
    "    if considerView:\n",
    "        transformedPointOfView = applyTransforms(transformedPointOfView,BlenderMathConverter.convert(pose.view).to_matrix().to_4x4())\n",
    "    return convert(transformedPointOfView)\n",
    "\n",
    "def getWorldPointOfView(pose:Pose, localPointOfView:Point, considerPointOfView = True, considerView = True)->Point:\n",
    "    \"\"\"\n",
    "    Get another point of view from a local perspective in a world perspective.\n",
    "    Parameters:\n",
    "    localPointOfView: Point of view from the local view.\n",
    "    \"\"\"\n",
    "    transformedPointOfView = convert(localPointOfView)\n",
    "    if considerView:\n",
    "        transformedPointOfView = applyTransforms(transformedPointOfView,BlenderMathConverter.convert(pose.view).inverted().to_matrix().to_4x4())\n",
    "    if considerPointOfView:\n",
    "        transformedPointOfView = applyTransforms(transformedPointOfView,BlenderMatrix.Translation(BlenderMathConverter.convert(pose.point_of_view)))\n",
    "    return BlenderMathConverter.convert(transformedPointOfView)"
   ]
  },
  {
   "cell_type": "code",
   "execution_count": 69,
   "metadata": {},
   "outputs": [
    {
     "data": {
      "text/plain": [
       "x: 0.2132568359375\n",
       "y: -0.055145263671875\n",
       "z: -0.3931884765625"
      ]
     },
     "execution_count": 69,
     "metadata": {},
     "output_type": "execute_result"
    }
   ],
   "source": [
    "o = Point(x=600,y=180,z=300)\n",
    "q = Quaternion(w=0.558,x=-0.681,y=0.247,z=-0.404)\n",
    "p = Pose(point_of_view=o,view=q)\n",
    "\n",
    "p1=Point()\n",
    "l = getLocalPointOfView(p,Point())\n",
    "w = getWorldPointOfView(p,p1)\n",
    "p1Test = getLocalPointOfView(p,w)\n",
    "p1Test2 = getWorldPointOfView(p,l)\n",
    "p1Test2"
   ]
  }
 ],
 "metadata": {
  "kernelspec": {
   "display_name": "semio",
   "language": "python",
   "name": "python3"
  },
  "language_info": {
   "codemirror_mode": {
    "name": "ipython",
    "version": 3
   },
   "file_extension": ".py",
   "mimetype": "text/x-python",
   "name": "python",
   "nbconvert_exporter": "python",
   "pygments_lexer": "ipython3",
   "version": "3.10.5"
  },
  "orig_nbformat": 4,
  "vscode": {
   "interpreter": {
    "hash": "6fe1706fc952e1fa97ed354812fc5bf2716c2c3db4eca3b0a8e0380eb2c25a23"
   }
  }
 },
 "nbformat": 4,
 "nbformat_minor": 2
}
