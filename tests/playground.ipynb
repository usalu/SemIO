{
 "cells": [
  {
   "attachments": {},
   "cell_type": "markdown",
   "metadata": {},
   "source": [
    "# Playground\n",
    "Assuming that semio was installed over the whl. In order to do so run,\n",
    "`poetry build` in `src/python/core`\n"
   ]
  },
  {
   "cell_type": "code",
   "execution_count": null,
   "metadata": {},
   "outputs": [],
   "source": [
    "import semio"
   ]
  },
  {
   "cell_type": "code",
   "execution_count": null,
   "metadata": {},
   "outputs": [],
   "source": [
    "from semio.model import Representation, Any\n",
    "Representation(body=Any(),lod=300,name=\"Body\")"
   ]
  },
  {
   "cell_type": "code",
   "execution_count": null,
   "metadata": {},
   "outputs": [],
   "source": [
    "from semio.model import Point,Pose,Sobject,Layout, Any\n",
    "from semio.gateway import LayoutDesignRequest, GatewayProxy\n",
    "\n",
    "layoutDesignRequest = LayoutDesignRequest(layout=Layout(\n",
    "    sobjects=[\n",
    "            Sobject(url=\"elements/RectangleWithMiter.gh\",pose=Pose(point_of_view=Point(x=-400,y=10,z=-5),view=Quaternion(w=1,x=0,y=0,z=0)),parameters={'Length':Any(value=b'330')}),\n",
    "            Sobject(url=\"elements/RectangleWithMiter.gh\",pose=Pose(point_of_view=Point(x=30,y=500,z=20),view=Quaternion(w=0,x=0.707,y=-0.707,z=0)),parameters={'Length':Any(value=b'220')})\n",
    "        ]\n",
    "))\n",
    "request\n",
    "\n",
    "proxy = GatewayProxy()\n",
    "proxy.LayoutDesign(request=layoutDesignRequest)"
   ]
  }
 ],
 "metadata": {
  "kernelspec": {
   "display_name": "semio",
   "language": "python",
   "name": "python3"
  },
  "language_info": {
   "codemirror_mode": {
    "name": "ipython",
    "version": 3
   },
   "file_extension": ".py",
   "mimetype": "text/x-python",
   "name": "python",
   "nbconvert_exporter": "python",
   "pygments_lexer": "ipython3",
   "version": "3.10.5"
  },
  "orig_nbformat": 4,
  "vscode": {
   "interpreter": {
    "hash": "6fe1706fc952e1fa97ed354812fc5bf2716c2c3db4eca3b0a8e0380eb2c25a23"
   }
  }
 },
 "nbformat": 4,
 "nbformat_minor": 2
}
