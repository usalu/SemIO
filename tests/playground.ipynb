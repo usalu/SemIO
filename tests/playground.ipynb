{
 "cells": [
  {
   "attachments": {},
   "cell_type": "markdown",
   "metadata": {},
   "source": [
    "# Playground\n",
    "Assuming that semio was installed over the whl. In order to do so run,\n",
    "`poetry build` in `src/python/core`\n"
   ]
  },
  {
   "cell_type": "code",
   "execution_count": 2,
   "metadata": {},
   "outputs": [
    {
     "data": {
      "text/plain": [
       "'{\\n  \"name\": \"Length\",\\n  \"value\": {\\n    \"number\": 23.456\\n  }\\n}'"
      ]
     },
     "execution_count": 2,
     "metadata": {},
     "output_type": "execute_result"
    }
   ],
   "source": [
    "from semio.model import Platform, Parameter, Value, Representation\n",
    "from semio.utils import Parse, MessageToJson\n",
    "\n",
    "parameter = Parameter(name=\"Length\",value=Value(number=23.456))\n",
    "json = MessageToJson(parameter)\n",
    "json"
   ]
  }
 ],
 "metadata": {
  "kernelspec": {
   "display_name": "semio",
   "language": "python",
   "name": "python3"
  },
  "language_info": {
   "codemirror_mode": {
    "name": "ipython",
    "version": 3
   },
   "file_extension": ".py",
   "mimetype": "text/x-python",
   "name": "python",
   "nbconvert_exporter": "python",
   "pygments_lexer": "ipython3",
   "version": "3.10.5 | packaged by conda-forge | (main, Jun 14 2022, 06:57:19) [MSC v.1929 64 bit (AMD64)]"
  },
  "orig_nbformat": 4,
  "vscode": {
   "interpreter": {
    "hash": "6fe1706fc952e1fa97ed354812fc5bf2716c2c3db4eca3b0a8e0380eb2c25a23"
   }
  }
 },
 "nbformat": 4,
 "nbformat_minor": 2
}
