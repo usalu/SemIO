{
 "cells": [
  {
   "attachments": {},
   "cell_type": "markdown",
   "metadata": {},
   "source": [
    "# Playground\n",
    "Assuming that semio was installed over the whl. In order to do so run,\n",
    "`poetry build` in `src/python/core`\n"
   ]
  },
  {
   "cell_type": "code",
   "execution_count": 2,
   "metadata": {},
   "outputs": [],
   "source": [
    "# from google.protobuf.json_format import MessageToDict, MessageToJson\n",
    "# from semio.model import Any,Representation\n",
    "\n",
    "# #protobuf_to_dict(Any(value=b'330'))\n",
    "# MessageToJson(message=Any(value=b'330', type_url=))"
   ]
  },
  {
   "cell_type": "code",
   "execution_count": 4,
   "metadata": {},
   "outputs": [
    {
     "data": {
      "text/plain": [
       "sobjects {\n",
       "  id: \"1\"\n",
       "  pose {\n",
       "    point_of_view {\n",
       "      x: -400\n",
       "      y: 10\n",
       "      z: -5\n",
       "    }\n",
       "    view {\n",
       "      w: 1\n",
       "    }\n",
       "  }\n",
       "  plan {\n",
       "    url: \"elements/RectangleWithMiter.gh\"\n",
       "    parameters {\n",
       "      name: \"Length\"\n",
       "      number: 330\n",
       "    }\n",
       "  }\n",
       "}\n",
       "sobjects {\n",
       "  id: \"2\"\n",
       "  pose {\n",
       "    point_of_view {\n",
       "      x: 30\n",
       "      y: 500\n",
       "      z: 20\n",
       "    }\n",
       "    view {\n",
       "      x: 0.707\n",
       "      y: -0.707\n",
       "    }\n",
       "  }\n",
       "  plan {\n",
       "    url: \"elements/RectangleWithMiter.gh\"\n",
       "    parameters {\n",
       "      name: \"Length\"\n",
       "      number: 220\n",
       "    }\n",
       "  }\n",
       "}\n",
       "connections {\n",
       "  connecting {\n",
       "    sobject_id: \"1\"\n",
       "  }\n",
       "  connected {\n",
       "    sobject_id: \"2\"\n",
       "  }\n",
       "}\n",
       "assemblies {\n",
       "  sobject_id: \"2\"\n",
       "  parts {\n",
       "    sobject_id: \"1\"\n",
       "  }\n",
       "}"
      ]
     },
     "execution_count": 4,
     "metadata": {},
     "output_type": "execute_result"
    }
   ],
   "source": [
    "from semio.model import Point,Quaternion,Pose,Parameter,Plan,Sobject,Connection,Assembly,Connectable,Layout\n",
    "\n",
    "layout=Layout(\n",
    "    sobjects=[\n",
    "        Sobject(id='1',plan=Plan(url=\"elements/RectangleWithMiter.gh\",parameters=[Parameter(name='Length',number=330)]),pose=Pose(point_of_view=Point(x=-400,y=10,z=-5),view=Quaternion(w=1,x=0,y=0,z=0))),\n",
    "        Sobject(id='2',plan=Plan(url=\"elements/RectangleWithMiter.gh\",parameters=[Parameter(name='Length',number=220)]),pose=Pose(point_of_view=Point(x=30,y=500,z=20),view=Quaternion(w=0,x=0.707,y=-0.707,z=0)))\n",
    "    ],\n",
    "    connections=[\n",
    "        Connection(connecting=Connectable(sobject_id='1'),connected=Connectable(sobject_id='2'))\n",
    "    ],\n",
    "    assemblies=[\n",
    "        Assembly(sobject_id='2', parts=[Assembly(sobject_id='1')])\n",
    "    ]\n",
    ")\n",
    "layout\n",
    "\n",
    "# assemblerProxy = AssemblerProxy()\n",
    "# assemblerProxy.LayoutDesign(request=layoutDesignRequest)"
   ]
  },
  {
   "cell_type": "code",
   "execution_count": 6,
   "metadata": {},
   "outputs": [
    {
     "ename": "TypeError",
     "evalue": "Parameters to generic types must be types. Got <google.protobuf.internal.enum_type_wrapper.EnumTypeWrapper object at 0x0000023B3C886020>.",
     "output_type": "error",
     "traceback": [
      "\u001b[1;31m---------------------------------------------------------------------------\u001b[0m",
      "\u001b[1;31mTypeError\u001b[0m                                 Traceback (most recent call last)",
      "Cell \u001b[1;32mIn [6], line 1\u001b[0m\n\u001b[1;32m----> 1\u001b[0m \u001b[39mfrom\u001b[39;00m \u001b[39msemio\u001b[39;00m\u001b[39m.\u001b[39;00m\u001b[39massembler\u001b[39;00m \u001b[39mimport\u001b[39;00m AssemblerProxy\n",
      "File \u001b[1;32mc:\\Users\\Ueli\\.conda\\envs\\semio\\lib\\site-packages\\semio\\assembler\\__init__.py:8\u001b[0m\n\u001b[0;32m      5\u001b[0m sys\u001b[39m.\u001b[39mpath\u001b[39m.\u001b[39mappend(\u001b[39mstr\u001b[39m(PurePath(Path(path\u001b[39m.\u001b[39mdirname(\u001b[39m__file__\u001b[39m))\u001b[39m.\u001b[39mparent)))\n\u001b[0;32m      7\u001b[0m \u001b[39mfrom\u001b[39;00m \u001b[39m.\u001b[39;00m\u001b[39mv1\u001b[39;00m\u001b[39m.\u001b[39;00m\u001b[39massembler_pb2\u001b[39;00m \u001b[39mimport\u001b[39;00m \u001b[39m*\u001b[39m\n\u001b[1;32m----> 8\u001b[0m \u001b[39mfrom\u001b[39;00m \u001b[39m.\u001b[39;00m\u001b[39massembler\u001b[39;00m \u001b[39mimport\u001b[39;00m AssemblerServer, AssemblerProxy\n",
      "File \u001b[1;32mc:\\Users\\Ueli\\.conda\\envs\\semio\\lib\\site-packages\\semio\\assembler\\assembler.py:17\u001b[0m\n\u001b[0;32m     14\u001b[0m \u001b[39mif\u001b[39;00m TYPE_CHECKING:\n\u001b[0;32m     15\u001b[0m     \u001b[39mfrom\u001b[39;00m \u001b[39mmanager\u001b[39;00m \u001b[39mimport\u001b[39;00m ManagerProxy\n\u001b[1;32m---> 17\u001b[0m \u001b[39mclass\u001b[39;00m \u001b[39mAssemblerServer\u001b[39;00m(SemioServer, SemioService, ABC):\n\u001b[0;32m     18\u001b[0m     managerAddress: \u001b[39mstr\u001b[39m \u001b[39m=\u001b[39m \u001b[39m\"\u001b[39m\u001b[39mlocalhost:\u001b[39m\u001b[39m\"\u001b[39m\u001b[39m+\u001b[39m\u001b[39mstr\u001b[39m(DEFAULT_MANAGER_PORT)\n\u001b[0;32m     20\u001b[0m     \u001b[39mdef\u001b[39;00m \u001b[39m__init__\u001b[39m(\u001b[39mself\u001b[39m,port \u001b[39m=\u001b[39m DEFAULT_ASSEMBLER_PORT, name \u001b[39m=\u001b[39m \u001b[39m\"\u001b[39m\u001b[39mPython Semio Assembler Server\u001b[39m\u001b[39m\"\u001b[39m, \u001b[39m*\u001b[39m\u001b[39m*\u001b[39mkw):\n",
      "File \u001b[1;32mc:\\Users\\Ueli\\.conda\\envs\\semio\\lib\\site-packages\\semio\\assembler\\assembler.py:44\u001b[0m, in \u001b[0;36mAssemblerServer\u001b[1;34m()\u001b[0m\n\u001b[0;32m     39\u001b[0m     connectElementResponse \u001b[39m=\u001b[39m \u001b[39mself\u001b[39m\u001b[39m.\u001b[39mmanagerProxy\u001b[39m.\u001b[39mConnectElement(sobjects\u001b[39m=\u001b[39msobjects,connection\u001b[39m=\u001b[39mconnection)\n\u001b[0;32m     40\u001b[0m     \u001b[39mreturn\u001b[39;00m (connectElementResponse\u001b[39m.\u001b[39mconnected_element_pose,connectElementResponse\u001b[39m.\u001b[39mconnection_point)\n\u001b[0;32m     42\u001b[0m \u001b[39mdef\u001b[39;00m \u001b[39m_requestElement\u001b[39m(\n\u001b[0;32m     43\u001b[0m     \u001b[39mself\u001b[39m, sobject: Sobject \u001b[39m=\u001b[39m Sobject(),\n\u001b[1;32m---> 44\u001b[0m     target_representation_platforms:Iterable[Platform] \u001b[39m|\u001b[39m \u001b[39mNone\u001b[39;00m \u001b[39m=\u001b[39m \u001b[39mNone\u001b[39;00m,\n\u001b[0;32m     45\u001b[0m     target_representation_concepts:Iterable[\u001b[39mstr\u001b[39m] \u001b[39m|\u001b[39m \u001b[39mNone\u001b[39;00m \u001b[39m=\u001b[39m \u001b[39mNone\u001b[39;00m,\n\u001b[0;32m     46\u001b[0m     target_representation_lods:Iterable[\u001b[39mint\u001b[39m] \u001b[39m|\u001b[39m \u001b[39mNone\u001b[39;00m \u001b[39m=\u001b[39m \u001b[39mNone\u001b[39;00m,\n\u001b[0;32m     47\u001b[0m     targets_required:\u001b[39mbool\u001b[39m \u001b[39m=\u001b[39m \u001b[39mFalse\u001b[39;00m)\u001b[39m-\u001b[39m\u001b[39m>\u001b[39m Element:\n\u001b[0;32m     48\u001b[0m     \u001b[39mreturn\u001b[39;00m \u001b[39mself\u001b[39m\u001b[39m.\u001b[39mmanagerProxy\u001b[39m.\u001b[39mRequestElement(\n\u001b[0;32m     49\u001b[0m         sobject\u001b[39m=\u001b[39msobject,\n\u001b[0;32m     50\u001b[0m         target_representation_platforms\u001b[39m=\u001b[39mtarget_representation_platforms,\n\u001b[0;32m     51\u001b[0m         target_representation_concepts\u001b[39m=\u001b[39mtarget_representation_concepts,\n\u001b[0;32m     52\u001b[0m         target_representation_lods\u001b[39m=\u001b[39mtarget_representation_lods,\n\u001b[0;32m     53\u001b[0m         targets_required\u001b[39m=\u001b[39mtargets_required)\n\u001b[0;32m     55\u001b[0m \u001b[39m@abstractmethod\u001b[39m\n\u001b[0;32m     56\u001b[0m \u001b[39mdef\u001b[39;00m \u001b[39mlayoutToAssemblies\u001b[39m(layout: Layout)\u001b[39m-\u001b[39m\u001b[39m>\u001b[39mIterable[Assembly]:\n",
      "File \u001b[1;32mc:\\Users\\Ueli\\.conda\\envs\\semio\\lib\\typing.py:312\u001b[0m, in \u001b[0;36m_tp_cache.<locals>.decorator.<locals>.inner\u001b[1;34m(*args, **kwds)\u001b[0m\n\u001b[0;32m    310\u001b[0m \u001b[39mexcept\u001b[39;00m \u001b[39mTypeError\u001b[39;00m:\n\u001b[0;32m    311\u001b[0m     \u001b[39mpass\u001b[39;00m  \u001b[39m# All real errors (not unhashable args) are raised below.\u001b[39;00m\n\u001b[1;32m--> 312\u001b[0m \u001b[39mreturn\u001b[39;00m func(\u001b[39m*\u001b[39margs, \u001b[39m*\u001b[39m\u001b[39m*\u001b[39mkwds)\n",
      "File \u001b[1;32mc:\\Users\\Ueli\\.conda\\envs\\semio\\lib\\typing.py:1142\u001b[0m, in \u001b[0;36m_SpecialGenericAlias.__getitem__\u001b[1;34m(self, params)\u001b[0m\n\u001b[0;32m   1140\u001b[0m     params \u001b[39m=\u001b[39m (params,)\n\u001b[0;32m   1141\u001b[0m msg \u001b[39m=\u001b[39m \u001b[39m\"\u001b[39m\u001b[39mParameters to generic types must be types.\u001b[39m\u001b[39m\"\u001b[39m\n\u001b[1;32m-> 1142\u001b[0m params \u001b[39m=\u001b[39m \u001b[39mtuple\u001b[39;49m(_type_check(p, msg) \u001b[39mfor\u001b[39;49;00m p \u001b[39min\u001b[39;49;00m params)\n\u001b[0;32m   1143\u001b[0m _check_generic(\u001b[39mself\u001b[39m, params, \u001b[39mself\u001b[39m\u001b[39m.\u001b[39m_nparams)\n\u001b[0;32m   1144\u001b[0m \u001b[39mreturn\u001b[39;00m \u001b[39mself\u001b[39m\u001b[39m.\u001b[39mcopy_with(params)\n",
      "File \u001b[1;32mc:\\Users\\Ueli\\.conda\\envs\\semio\\lib\\typing.py:1142\u001b[0m, in \u001b[0;36m<genexpr>\u001b[1;34m(.0)\u001b[0m\n\u001b[0;32m   1140\u001b[0m     params \u001b[39m=\u001b[39m (params,)\n\u001b[0;32m   1141\u001b[0m msg \u001b[39m=\u001b[39m \u001b[39m\"\u001b[39m\u001b[39mParameters to generic types must be types.\u001b[39m\u001b[39m\"\u001b[39m\n\u001b[1;32m-> 1142\u001b[0m params \u001b[39m=\u001b[39m \u001b[39mtuple\u001b[39m(_type_check(p, msg) \u001b[39mfor\u001b[39;00m p \u001b[39min\u001b[39;00m params)\n\u001b[0;32m   1143\u001b[0m _check_generic(\u001b[39mself\u001b[39m, params, \u001b[39mself\u001b[39m\u001b[39m.\u001b[39m_nparams)\n\u001b[0;32m   1144\u001b[0m \u001b[39mreturn\u001b[39;00m \u001b[39mself\u001b[39m\u001b[39m.\u001b[39mcopy_with(params)\n",
      "File \u001b[1;32mc:\\Users\\Ueli\\.conda\\envs\\semio\\lib\\typing.py:176\u001b[0m, in \u001b[0;36m_type_check\u001b[1;34m(arg, msg, is_argument, module, allow_special_forms)\u001b[0m\n\u001b[0;32m    174\u001b[0m     \u001b[39mreturn\u001b[39;00m arg\n\u001b[0;32m    175\u001b[0m \u001b[39mif\u001b[39;00m \u001b[39mnot\u001b[39;00m callable(arg):\n\u001b[1;32m--> 176\u001b[0m     \u001b[39mraise\u001b[39;00m \u001b[39mTypeError\u001b[39;00m(\u001b[39mf\u001b[39m\u001b[39m\"\u001b[39m\u001b[39m{\u001b[39;00mmsg\u001b[39m}\u001b[39;00m\u001b[39m Got \u001b[39m\u001b[39m{\u001b[39;00marg\u001b[39m!r:\u001b[39;00m\u001b[39m.100\u001b[39m\u001b[39m}\u001b[39;00m\u001b[39m.\u001b[39m\u001b[39m\"\u001b[39m)\n\u001b[0;32m    177\u001b[0m \u001b[39mreturn\u001b[39;00m arg\n",
      "\u001b[1;31mTypeError\u001b[0m: Parameters to generic types must be types. Got <google.protobuf.internal.enum_type_wrapper.EnumTypeWrapper object at 0x0000023B3C886020>."
     ]
    }
   ],
   "source": [
    "from semio.assembler import AssemblerProxy"
   ]
  },
  {
   "cell_type": "code",
   "execution_count": null,
   "metadata": {},
   "outputs": [],
   "source": [
    "import zmq\n",
    "\n",
    "context = zmq.Context()\n",
    "socket = context.socket(zmq.REQ)\n",
    "socket.connect(\"tcp://localhost:5556\")"
   ]
  },
  {
   "cell_type": "code",
   "execution_count": null,
   "metadata": {},
   "outputs": [],
   "source": [
    "socket.send(layoutDesignRequest)\n",
    "message = socket.recv()\n",
    "print(\"Received reply %s [ %s ]\" % (layoutDesignRequest, message)) "
   ]
  }
 ],
 "metadata": {
  "kernelspec": {
   "display_name": "semio",
   "language": "python",
   "name": "python3"
  },
  "language_info": {
   "codemirror_mode": {
    "name": "ipython",
    "version": 3
   },
   "file_extension": ".py",
   "mimetype": "text/x-python",
   "name": "python",
   "nbconvert_exporter": "python",
   "pygments_lexer": "ipython3",
   "version": "3.10.5"
  },
  "orig_nbformat": 4,
  "vscode": {
   "interpreter": {
    "hash": "6fe1706fc952e1fa97ed354812fc5bf2716c2c3db4eca3b0a8e0380eb2c25a23"
   }
  }
 },
 "nbformat": 4,
 "nbformat_minor": 2
}
