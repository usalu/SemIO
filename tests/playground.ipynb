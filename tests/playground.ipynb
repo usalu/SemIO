{
 "cells": [
  {
   "attachments": {},
   "cell_type": "markdown",
   "metadata": {},
   "source": [
    "# Playground\n",
    "Assuming that semio was installed over the whl. In order to do so run,\n",
    "`poetry build` in `src/python/core`\n"
   ]
  },
  {
   "cell_type": "code",
   "execution_count": 31,
   "metadata": {},
   "outputs": [
    {
     "data": {
      "text/plain": [
       "model.v1.model_pb2.Plan"
      ]
     },
     "execution_count": 31,
     "metadata": {},
     "output_type": "execute_result"
    }
   ],
   "source": [
    "from semio.geometry import Point\n",
    "from semio.model import Pose,Sobject, Platform, Parameter, Value, Representation,Plan\n",
    "from semio.utils import MessageToJson, hashObject\n",
    "\n",
    "parameter = Parameter(name=\"Length\",value=Value(number=23.456))\n",
    "json = MessageToJson(parameter)\n",
    "json\n",
    "\n",
    "p1 = Plan(uri=\"Test\",parameters=[parameter])\n",
    "p2 = Plan(uri=\"Test\")\n",
    "set((hashObject(p1),hashObject(p2)))\n",
    "\n",
    "\n",
    "s1 = Sobject(plan=p1)\n",
    "s2 = Sobject(plan=p2)\n",
    "type(s1.ListFields()[0][1:][0])"
   ]
  },
  {
   "cell_type": "code",
   "execution_count": null,
   "metadata": {},
   "outputs": [],
   "source": [
    "s3 = Sobject(**)\n",
    "s3"
   ]
  }
 ],
 "metadata": {
  "kernelspec": {
   "display_name": "semio",
   "language": "python",
   "name": "python3"
  },
  "language_info": {
   "codemirror_mode": {
    "name": "ipython",
    "version": 3
   },
   "file_extension": ".py",
   "mimetype": "text/x-python",
   "name": "python",
   "nbconvert_exporter": "python",
   "pygments_lexer": "ipython3",
   "version": "3.10.5"
  },
  "orig_nbformat": 4,
  "vscode": {
   "interpreter": {
    "hash": "6fe1706fc952e1fa97ed354812fc5bf2716c2c3db4eca3b0a8e0380eb2c25a23"
   }
  }
 },
 "nbformat": 4,
 "nbformat_minor": 2
}
