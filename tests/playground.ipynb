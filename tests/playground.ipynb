{
 "cells": [
  {
   "attachments": {},
   "cell_type": "markdown",
   "metadata": {},
   "source": [
    "# Playground\n",
    "Assuming that semio was installed over the whl. In order to do so run,\n",
    "`poetry build` in `src/python/core`\n"
   ]
  },
  {
   "cell_type": "code",
   "execution_count": null,
   "metadata": {},
   "outputs": [],
   "source": [
    "from semio.extension import ExtensionServer\n",
    "\n",
    "ExtensionServer()"
   ]
  },
  {
   "cell_type": "code",
   "execution_count": null,
   "metadata": {},
   "outputs": [],
   "source": [
    "from semio.model import Point,Quaternion,Pose,Parameter,Plan,Sobject,Connection,Assembly,Connectable,Layout\n",
    "\n",
    "layout=Layout(\n",
    "    sobjects=[\n",
    "        Sobject(id='1',plan=Plan(url=\"elements/RectangleWithMiter.gh\",parameters=[Parameter(name='Length',number=330)]),pose=Pose(point_of_view=Point(x=-400,y=10,z=-5),view=Quaternion(w=1,x=0,y=0,z=0))),\n",
    "        Sobject(id='2',plan=Plan(url=\"elements/RectangleWithMiter.gh\",parameters=[Parameter(name='Length',number=220)]),pose=Pose(point_of_view=Point(x=30,y=500,z=20),view=Quaternion(w=0,x=0.707,y=-0.707,z=0)))\n",
    "    ],\n",
    "    connections=[\n",
    "        Connection(connecting=Connectable(sobject_id='1'),connected=Connectable(sobject_id='2'))\n",
    "    ],\n",
    "    assemblies=[\n",
    "        Assembly(sobject_id='2', parts=[Assembly(sobject_id='1')])\n",
    "    ]\n",
    ")\n",
    "layout\n",
    "\n",
    "# assemblerProxy = AssemblerProxy()\n",
    "# assemblerProxy.LayoutDesign(request=layoutDesignRequest)"
   ]
  },
  {
   "cell_type": "code",
   "execution_count": null,
   "metadata": {},
   "outputs": [],
   "source": [
    "from semio.assembler import AssemblerProxy"
   ]
  },
  {
   "cell_type": "code",
   "execution_count": null,
   "metadata": {},
   "outputs": [],
   "source": [
    "import zmq\n",
    "\n",
    "context = zmq.Context()\n",
    "socket = context.socket(zmq.REQ)\n",
    "socket.connect(\"tcp://localhost:5556\")"
   ]
  },
  {
   "cell_type": "code",
   "execution_count": null,
   "metadata": {},
   "outputs": [],
   "source": [
    "socket.send(layoutDesignRequest)\n",
    "message = socket.recv()\n",
    "print(\"Received reply %s [ %s ]\" % (layoutDesignRequest, message)) "
   ]
  }
 ],
 "metadata": {
  "kernelspec": {
   "display_name": "semio",
   "language": "python",
   "name": "python3"
  },
  "language_info": {
   "codemirror_mode": {
    "name": "ipython",
    "version": 3
   },
   "file_extension": ".py",
   "mimetype": "text/x-python",
   "name": "python",
   "nbconvert_exporter": "python",
   "pygments_lexer": "ipython3",
   "version": "3.10.5"
  },
  "orig_nbformat": 4,
  "vscode": {
   "interpreter": {
    "hash": "6fe1706fc952e1fa97ed354812fc5bf2716c2c3db4eca3b0a8e0380eb2c25a23"
   }
  }
 },
 "nbformat": 4,
 "nbformat_minor": 2
}
