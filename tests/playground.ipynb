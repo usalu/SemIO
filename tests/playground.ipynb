{
 "cells": [
  {
   "attachments": {},
   "cell_type": "markdown",
   "metadata": {},
   "source": [
    "# Playground\n",
    "Assuming that semio was installed over the whl. In order to do so run,\n",
    "`poetry build` in `src/python/core`\n"
   ]
  },
  {
   "cell_type": "code",
   "execution_count": null,
   "metadata": {},
   "outputs": [],
   "source": [
    "from abc import ABC, abstractclassmethod,abstractmethod\n",
    "from pydantic import BaseModel, Field\n",
    "\n",
    "class SemioService(BaseModel,ABC):\n",
    "    name: str\n",
    "\n",
    "\n",
    "class AdapterService():\n",
    "    target"
   ]
  },
  {
   "cell_type": "code",
   "execution_count": null,
   "metadata": {},
   "outputs": [],
   "source": [
    "from semio.model import Point,Pose,Quaternion,Sobject,Attraction,AttractionTree,AttractionParticipant,Layout, Any\n",
    "sobject = Sobject(pose=Pose(point_of_view=Point(x=-400,y=10,z=-5),view=Quaternion(w=1,x=0,y=0,z=0)))\n",
    "layout=Layout(\n",
    "    sobjects=[\n",
    "            Sobject(id='1',url=\"elements/RectangleWithMiter.gh\",pose=Pose(point_of_view=Point(x=-400,y=10,z=-5),view=Quaternion(w=1,x=0,y=0,z=0)),parameters={'Length':Any(value=b'330')}),\n",
    "            Sobject(id='2',url=\"elements/RectangleWithMiter.gh\",pose=Pose(point_of_view=Point(x=30,y=500,z=20),view=Quaternion(w=0,x=0.707,y=-0.707,z=0)),parameters={'Length':Any(value=b'220')})\n",
    "    ],\n",
    "    attractions=[\n",
    "        Attraction(id='1',attractor=AttractionParticipant(patricipant_id='1'),attracted=AttractionParticipant(patricipant_id='2'))\n",
    "    ],\n",
    "    root_sobject_id='1',\n",
    "    attractionTrees=[\n",
    "        AttractionTree(attraction_id='1')\n",
    "    ]\n",
    ")\n",
    "\n",
    "ss = layout.SerializeToString()\n",
    "ss"
   ]
  },
  {
   "cell_type": "code",
   "execution_count": null,
   "metadata": {},
   "outputs": [],
   "source": [
    "Layout.FromString(ss)"
   ]
  },
  {
   "cell_type": "code",
   "execution_count": 4,
   "metadata": {},
   "outputs": [
    {
     "ename": "_InactiveRpcError",
     "evalue": "<_InactiveRpcError of RPC that terminated with:\n\tstatus = StatusCode.UNKNOWN\n\tdetails = \"Stream removed\"\n\tdebug_error_string = \"UNKNOWN:Error received from peer ipv6:%5B::1%5D:50000 {grpc_message:\"Stream removed\", grpc_status:2, created_time:\"2023-01-12T21:10:02.114004482+00:00\"}\"\n>",
     "output_type": "error",
     "traceback": [
      "\u001b[1;31m---------------------------------------------------------------------------\u001b[0m",
      "\u001b[1;31m_InactiveRpcError\u001b[0m                         Traceback (most recent call last)",
      "Cell \u001b[1;32mIn [4], line 21\u001b[0m\n\u001b[0;32m     18\u001b[0m layoutDesignRequest\n\u001b[0;32m     20\u001b[0m gatewayProxy \u001b[39m=\u001b[39m GatewayProxy()\n\u001b[1;32m---> 21\u001b[0m gatewayProxy\u001b[39m.\u001b[39;49mLayoutDesign(request\u001b[39m=\u001b[39;49mlayoutDesignRequest)\n",
      "File \u001b[1;32mc:\\Users\\Ueli\\.conda\\envs\\semio\\lib\\site-packages\\semio\\gateway\\gateway.py:23\u001b[0m, in \u001b[0;36mGatewayProxy.LayoutDesign\u001b[1;34m(self, request, context)\u001b[0m\n\u001b[0;32m     22\u001b[0m \u001b[39mdef\u001b[39;00m \u001b[39mLayoutDesign\u001b[39m(\u001b[39mself\u001b[39m, request, context \u001b[39m=\u001b[39m \u001b[39mNone\u001b[39;00m):\n\u001b[1;32m---> 23\u001b[0m     \u001b[39mreturn\u001b[39;00m \u001b[39mself\u001b[39;49m\u001b[39m.\u001b[39;49m_stub\u001b[39m.\u001b[39;49mLayoutDesign(request,context)\n",
      "File \u001b[1;32mc:\\Users\\Ueli\\.conda\\envs\\semio\\lib\\site-packages\\grpc\\_channel.py:946\u001b[0m, in \u001b[0;36m_UnaryUnaryMultiCallable.__call__\u001b[1;34m(self, request, timeout, metadata, credentials, wait_for_ready, compression)\u001b[0m\n\u001b[0;32m    937\u001b[0m \u001b[39mdef\u001b[39;00m \u001b[39m__call__\u001b[39m(\u001b[39mself\u001b[39m,\n\u001b[0;32m    938\u001b[0m              request,\n\u001b[0;32m    939\u001b[0m              timeout\u001b[39m=\u001b[39m\u001b[39mNone\u001b[39;00m,\n\u001b[1;32m   (...)\u001b[0m\n\u001b[0;32m    942\u001b[0m              wait_for_ready\u001b[39m=\u001b[39m\u001b[39mNone\u001b[39;00m,\n\u001b[0;32m    943\u001b[0m              compression\u001b[39m=\u001b[39m\u001b[39mNone\u001b[39;00m):\n\u001b[0;32m    944\u001b[0m     state, call, \u001b[39m=\u001b[39m \u001b[39mself\u001b[39m\u001b[39m.\u001b[39m_blocking(request, timeout, metadata, credentials,\n\u001b[0;32m    945\u001b[0m                                   wait_for_ready, compression)\n\u001b[1;32m--> 946\u001b[0m     \u001b[39mreturn\u001b[39;00m _end_unary_response_blocking(state, call, \u001b[39mFalse\u001b[39;49;00m, \u001b[39mNone\u001b[39;49;00m)\n",
      "File \u001b[1;32mc:\\Users\\Ueli\\.conda\\envs\\semio\\lib\\site-packages\\grpc\\_channel.py:849\u001b[0m, in \u001b[0;36m_end_unary_response_blocking\u001b[1;34m(state, call, with_call, deadline)\u001b[0m\n\u001b[0;32m    847\u001b[0m         \u001b[39mreturn\u001b[39;00m state\u001b[39m.\u001b[39mresponse\n\u001b[0;32m    848\u001b[0m \u001b[39melse\u001b[39;00m:\n\u001b[1;32m--> 849\u001b[0m     \u001b[39mraise\u001b[39;00m _InactiveRpcError(state)\n",
      "\u001b[1;31m_InactiveRpcError\u001b[0m: <_InactiveRpcError of RPC that terminated with:\n\tstatus = StatusCode.UNKNOWN\n\tdetails = \"Stream removed\"\n\tdebug_error_string = \"UNKNOWN:Error received from peer ipv6:%5B::1%5D:50000 {grpc_message:\"Stream removed\", grpc_status:2, created_time:\"2023-01-12T21:10:02.114004482+00:00\"}\"\n>"
     ]
    }
   ],
   "source": [
    "from semio.model import Point,Pose,Quaternion,Sobject,Attraction,AttractionTree,AttractionParticipant,Layout, Any\n",
    "from semio.gateway import LayoutDesignRequest, GatewayProxy\n",
    "\n",
    "layout=Layout(\n",
    "    sobjects=[\n",
    "        Sobject(id='1',url=\"elements/RectangleWithMiter.gh\",pose=Pose(point_of_view=Point(x=-400,y=10,z=-5),view=Quaternion(w=1,x=0,y=0,z=0)),parameters={'Length':Any(value=b'330')}),\n",
    "        Sobject(id='2',url=\"elements/RectangleWithMiter.gh\",pose=Pose(point_of_view=Point(x=30,y=500,z=20),view=Quaternion(w=0,x=0.707,y=-0.707,z=0)),parameters={'Length':Any(value=b'220')})\n",
    "    ],\n",
    "    attractions=[\n",
    "        Attraction(id='1',attractor=AttractionParticipant(patricipant_id='1'),attracted=AttractionParticipant(patricipant_id='2'))\n",
    "    ],\n",
    "    root_sobject_id='1',\n",
    "    attractionTrees=[\n",
    "        AttractionTree(attraction_id='1')\n",
    "    ]\n",
    ")\n",
    "layoutDesignRequest = LayoutDesignRequest(layout=layout)\n",
    "layoutDesignRequest\n",
    "\n",
    "gatewayProxy = GatewayProxy()\n",
    "gatewayProxy.LayoutDesign(request=layoutDesignRequest)"
   ]
  },
  {
   "cell_type": "code",
   "execution_count": null,
   "metadata": {},
   "outputs": [],
   "source": []
  }
 ],
 "metadata": {
  "kernelspec": {
   "display_name": "semio",
   "language": "python",
   "name": "python3"
  },
  "language_info": {
   "codemirror_mode": {
    "name": "ipython",
    "version": 3
   },
   "file_extension": ".py",
   "mimetype": "text/x-python",
   "name": "python",
   "nbconvert_exporter": "python",
   "pygments_lexer": "ipython3",
   "version": "3.10.5"
  },
  "orig_nbformat": 4,
  "vscode": {
   "interpreter": {
    "hash": "6fe1706fc952e1fa97ed354812fc5bf2716c2c3db4eca3b0a8e0380eb2c25a23"
   }
  }
 },
 "nbformat": 4,
 "nbformat_minor": 2
}
