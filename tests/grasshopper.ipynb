{
 "cells": [
  {
   "cell_type": "code",
   "execution_count": 12,
   "metadata": {},
   "outputs": [],
   "source": [
    "import compute_rhino3d\n",
    "import compute_rhino3d.Grasshopper as gh\n",
    "from compute_rhino3d.Util import DecodeToCommonObject, DecodeToPoint3d, DecodeToLine, DecodeToBoundingBox, DecodeToVector3d\n",
    "from rhino3dm import (File3dm,CommonObject,ObjectAttributes,\n",
    "Point,Point2d,Point2f,Point3d,Point4d,PointCloud,Vector2d,Vector3d,Vector3f,\n",
    "Line,LineCurve,Mesh,Plane,\n",
    "Curve,Polyline,PolylineCurve,Curve,Arc,BezierCurve,Circle,Ellipse,NurbsCurve,\n",
    "Surface,\n",
    "BoundingBox,Cone,Cylinder,Extrusion,Sphere,Brep,\n",
    "Transform)\n",
    "from json import loads,dumps,JSONDecodeError\n",
    "\n",
    "from pydantic import BaseModel\n"
   ]
  },
  {
   "cell_type": "code",
   "execution_count": 13,
   "metadata": {},
   "outputs": [],
   "source": [
    "\n",
    "def encode(value):\n",
    "    if type(value).__module__.startswith('rhino3dm'):\n",
    "        return dumps(value.Encode())\n",
    "    else:\n",
    "        return value\n",
    "\n",
    "def prepareParameter(parameter):\n",
    "    return encode(parameter)\n",
    "\n",
    "def convertToTrees(parameters):\n",
    "    trees = []\n",
    "    if type(parameters) is not dict:\n",
    "        return \"Parameters have to be a dictionary\"\n",
    "    \n",
    "    for kw in parameters:\n",
    "        branches = parameters[kw]\n",
    "        tree = gh.DataTree(kw)\n",
    "        #check if branches is just item\n",
    "        if type(branches) != list:\n",
    "            tree.Append([0], [prepareParameter(branches)])\n",
    "        else:\n",
    "            #check if branches is list\n",
    "            if type(branches[0]) != list:\n",
    "                tree.Append([0], [prepareParameter(item) for item in branches])\n",
    "            else:\n",
    "                #branches must be a \"real\" tree with many branches\n",
    "                for i,branch in enumerate(branches):\n",
    "                    tree.Append([i], [prepareParameter(item) for item in branch])\n",
    "        trees.append(tree)\n",
    "    return trees\n",
    "\n",
    "def parseSingleValue(valueReply):\n",
    "    try:\n",
    "        if 'type' in valueReply:\n",
    "            valueType =  valueReply['type']\n",
    "            data =  loads(valueReply['data'])\n",
    "            if valueType.endswith('Point3d'):\n",
    "                return Point3d(data['X'],data['Y'],data['Z'])\n",
    "            else:\n",
    "                return CommonObject.Decode(data)\n",
    "        return valueReply\n",
    "    except:\n",
    "        return valueReply\n",
    "\n",
    "def parseSingleResults(valuesReply):\n",
    "    results = {}\n",
    "    log = []\n",
    "    for valueReply in valuesReply['values']:\n",
    "        tree = valueReply['InnerTree']\n",
    "        if len(tree)!=1:\n",
    "            log.append(\"Tree did not have exactly one 1 branch\" +valueReply)\n",
    "            continue\n",
    "        value =list(tree.values())[0]\n",
    "        if len(value)!=1:\n",
    "            log.append(\"Branch did not have exactly one 1 value\")\n",
    "        results[valueReply['ParamName']]=parseSingleValue(value[0])\n",
    "    return (results,log)\n",
    "\n",
    "\"\"\"Simplified call with dictionaries as input.\"\"\"\n",
    "def callGrasshopper(path,parameters = {}, computeUrl = \"http://localhost:6500/\", computeAuthToken= \"\"):\n",
    "    trees = convertToTrees(parameters)\n",
    "    try:\n",
    "        compute_rhino3d.Util.url = computeUrl\n",
    "        compute_rhino3d.Util.authToken = computeAuthToken\n",
    "        return gh.EvaluateDefinition(path, trees)\n",
    "    except JSONDecodeError as e:\n",
    "            raise ValueError(\"Probably the path was wrong. Make sure to give an absolute path otherwise the call will most likely fail. This is the log\\n\" + str(e))\n",
    "    except Exception as e: return \"The call to compute went wrong. \" + str(e)"
   ]
  },
  {
   "cell_type": "code",
   "execution_count": 14,
   "metadata": {},
   "outputs": [],
   "source": [
    "decodeDict= {\n",
    "    \"Rhino.Geometry.Point3d\": DecodeToPoint3d,\n",
    "    \"Rhino.Geometry.Vector3d\": DecodeToVector3d,\n",
    "    # 'Rhino.Geometry.Box': DecodeToCommonObject,\n",
    "    'Rhino.Geometry.PolylineCurve': DecodeToCommonObject\n",
    "}\n",
    "def decode(item):\n",
    "    data = loads(item['data'])\n",
    "    type = item['type']\n",
    "    if not type in decodeDict:\n",
    "        raise ValueError(f'The item type {type} is currently not supported.')\n",
    "    return decodeDict[type](data)\n",
    "\n",
    "def addObjectToModel(item,model):\n",
    "    if type(item) in [Point, Point2d, Point2f, Point2d, Point3d, Point4d]:\n",
    "        model.Objects.AddPoint(item)\n",
    "    elif type(item) in [PointCloud]:\n",
    "        model.Objects.AddPointCloud(item)\n",
    "    elif type(item) in [Line]:\n",
    "        model.Objects.AddLine(item)\n",
    "    elif type(item) in [Polyline]:\n",
    "        model.Objects.AddPolyline(item)\n",
    "    elif type(item) in [Arc]:\n",
    "        model.Objects.AddArc(item)\n",
    "    elif type(item) in [Circle]:\n",
    "        model.Objects.AddCircle(item)\n",
    "    elif type(item) in [Ellipse]:\n",
    "        model.Objects.AddEllipse(item)\n",
    "    elif type(item) in [Sphere]:\n",
    "        model.Objects.AddSphere(item)\n",
    "    elif type(item) in [Curve, PolylineCurve]:\n",
    "        model.Objects.AddCurve(item)\n",
    "    elif type(item) in [Surface]:\n",
    "        model.Objects.AddSurface(item)\n",
    "    elif type(item) in [Extrusion]:\n",
    "        model.Objects.AddExtrusion(item)\n",
    "    elif type(item) in [Mesh]:\n",
    "        model.Objects.AddMesh(item)\n",
    "    elif type(item) in [Brep]:\n",
    "        model.Objects.AddBrep(item)\n",
    "    elif type(item) in [Surface]:\n",
    "        model.Objects.AddSurface(item)\n",
    "    else:\n",
    "        model.Objects.Add(item) \n",
    "\n",
    "\n",
    "def parseFileFromOutput(grasshopperReply, outputName):\n",
    "    model = File3dm()\n",
    "    valuesDictionary = { valueReply['ParamName']:valueReply['InnerTree'] for valueReply in grasshopperReply['values']}\n",
    "    if not outputName in valuesDictionary:\n",
    "        raise ValueError(f'Output name {outputName} was not in grasshopper reply.')\n",
    "    representationLayerIndex = model.Layers.AddLayer(outputName,(0,0,0,255))\n",
    "    representationObjectAttributes = ObjectAttributes()\n",
    "    for branch in valuesDictionary[outputName].values():\n",
    "        print (branch)\n",
    "        for item in branch:\n",
    "            try:\n",
    "                #print(item)\n",
    "                decodedObject = decode(item)\n",
    "                #print(decodedObject)\n",
    "                addObjectToModel(decodedObject,model)\n",
    "            except Exception as e:\n",
    "                print(e)\n",
    "    return model\n",
    "   \n",
    "    # representationObjectAttributes.LayerIndex = representationLayerIndex\n",
    "    # model.Objects.Add(rectangleWithMiter1,representationObjectAttributes)\n",
    "    # afterLayerIndex = model.Layers.AddLayer(\"Related\",(0,0,0,255))\n",
    "    # afterObjectAttributes = ObjectAttributes()\n",
    "    # afterObjectAttributes.LayerIndex = afterLayerIndex\n",
    "    # connection.placeRelatedModule(model,afterObjectAttributes)\n",
    "    # model.Write"
   ]
  },
  {
   "cell_type": "code",
   "execution_count": 15,
   "metadata": {},
   "outputs": [
    {
     "data": {
      "text/plain": [
       "{'absolutetolerance': 0.0,\n",
       " 'angletolerance': 0.0,\n",
       " 'modelunits': 'Millimeters',\n",
       " 'algo': '',\n",
       " 'pointer': 'md5_57C503BFBCA1262A6EB6444090BB2F81',\n",
       " 'cachesolve': False,\n",
       " 'recursionlevel': 0,\n",
       " 'values': [{'ParamName': 'ATTRACTIONPOINT',\n",
       "   'InnerTree': {'{0}': [{'type': 'Rhino.Geometry.Point3d',\n",
       "      'data': '{\"X\":200.0,\"Y\":110.0,\"Z\":0.0}'}]}},\n",
       "  {'ParamName': 'REPRESENTATION',\n",
       "   'InnerTree': {'{0;0;0;0}': [{'type': 'Rhino.Geometry.Mesh',\n",
       "      'data': '{\"version\":10000,\"archive3dm\":60,\"opennurbs\":-1905753079,\"data\":\"+n8CALIEAAAAAAAA+/8CABQAAAAAAAAA5NTXTkfp0xG/5QAQgwEi8C25G1z8/wIAegQAAAAAAAA4MAAAACQAAAAAAAAAAAAAAAIAAAAA9O8/AAAAAAAAAABVVVVVVUnlPwAAAAAAAAAAAAAAAABgg0AAAAAAAAAAAAAAAAAAYINAAAAAAAAAAAAAAAAAAAAAAAAAgD8AAIA/AACAPwAAgL8AAIC/AACAvwAAgD8AAIA/AACAPwAAgL8AAIC/AACAvwAAgD8AAIA/AACAvwAAgL//////AQCAAECVAAAAAAAAABUAAAAAAAAAAAEAAAAAAAAAAAAAAAAAAAAAAAAALUMc6+I2Gj8AAAAAAAAAAAAAAAAAABhAAAAAAAAAAACHROdKGFfWPwAAAAAAAPA/h0TnShhX1j+HROdKGFe2PwAAAAACAAAAAAAAAAAAAAAAAAEAgABAFQAAAAAAAAABAAAAAgAAAAQAAAACAAAAANmNOQnXEQBhAAAAAAEAAAAGAAQEBgUBAQcGBAQGBwUFBwMFBQIHBAQOCAwMDg0JCQ8ODAwODw0NDwsNDQoPDAwWEBQUFhURERcWFBQWFxUVFxMVFRIXFBQfGBwcHx0ZGR4fHBwfHh0dHhsdHRoeHBwkICcnJCUhISYkJyckJiUlJiMlJSImJycvKCwsLy4pKS0vLCwvLS4uLSsuLiotLCxAAgAAz7Nt4QEAgABAXQAAAAAAAAB42qWRUQ4AEAxDd7ce03FcTCRIdZ0fksaMvFIRrUcWlni95jl2/9SQHnKtnMsDt5h7GMo0e5Yrb7L3e3kXnDK3bjKCz4zPJR+Xl7CZUfp8ZM95+X8YMV6GEdxAMEdAAgAAeFH2jAEAgABALAAAAAAAAAB42mNgAIGG/QxwQG12gz2SGA3YcH4Dbdi0DBsUP9DYHtrEAwCj5TPR5VIkUYABAAD/6qShAQCAAECIAAAAAAAAAHjaTU/BEYAgDGMZH3UI/PtnHlbhK2zmEkqSFuWOa5MSko5zP0bveV3g4LxP7eEM9d+v+TzkUMHdl/5CJTbHpj9woJ/z1Kr7y5OY/uFd3V85ylb4jjXm9FcO6umvHMLm2KSbPCp1njV2iMzfLrbmymw5dlw7/A71zkVPDW/wwuhf8jeYtHGu0bwAAAAAAAAAAAEAAAAAAAAAAAAAAAAAAAAAAAAAAAMAAEeMYUoBAIAAQDkAAAAAAAAAeNpjYMADEpodUGhc4gnFaPLFOPQV49c3aj9t7CekjlL7MewlYD8heyn2Pw77sLgXAJZIQrXAFzVxAIAAQKQAAAAAAAAAAQAAAAEAAAAAAAAAAAAAAAAAAAAAAAAAAAAAAAAAAAAAAPA/AAAAAAAAAAAAAAAAAAAAAAAAAAAAAAAAAAAAAAAAAAAAAAAAAADwPwAAAAAAAAAAAAAAAAAAAAAAAAAAAAAAAAAAAAAAAAAAAAAAAAAA8D8AAAAAAAAAAAAAAAAAAAAAAAAAAAAAAAAAAAAAAAAAAAAAAAAAAPA/AAAAAGk8mKMAAAAAANIdM569+OX/0h0znr345f/SHTOevfjl/9IdM569+OX/0h0znr345f/SHTOevfjl/3db/T//fwKAAAAAAAAAAAA=\"}'}],\n",
       "    '{0;0;0;1}': [{'type': 'Rhino.Geometry.Mesh',\n",
       "      'data': '{\"version\":10000,\"archive3dm\":60,\"opennurbs\":-1905753079,\"data\":\"+n8CALIEAAAAAAAA+/8CABQAAAAAAAAA5NTXTkfp0xG/5QAQgwEi8C25G1z8/wIAegQAAAAAAAA4MAAAACQAAAAAAAAAAAAAAAIAAAAA9O8/AAAAAAAAAABVVVVVVUnlPwAAAAAAAAAAAAAAAABgg0AAAAAAAAAAAAAAAAAAYINAAAAAAAAAAAAAAAAAAAAAAAAAgD8AAIA/AACAPwAAgL8AAIC/AACAvwAAgD8AAIA/AACAPwAAgL8AAIC/AACAvwAAgD8AAIA/AACAvwAAgL//////AQCAAECVAAAAAAAAABUAAAAAAAAAAAEAAAAAAAAAAAAAAAAAAAAAAAAALUMc6+I2Gj8AAAAAAAAAAAAAAAAAABhAAAAAAAAAAACHROdKGFfWPwAAAAAAAPA/h0TnShhX1j+HROdKGFe2PwAAAAACAAAAAAAAAAAAAAAAAAEAgABAFQAAAAAAAAABAAAAAgAAAAQAAAACAAAAANmNOQnXEQBhAAAAAAEAAAAGAAQEBgUBAQcGBAQGBwUFBwMFBQIHBAQOCAwMDg0JCQ8ODAwODw0NDwsNDQoPDAwWEBQUFhURERcWFBQWFxUVFxMVFRIXFBQfGBwcHx0ZGR4fHBwfHh0dHhsdHRoeHBwkICcnJCUhISYkJyckJiUlJiMlJSImJycvKCwsLy4pKS0vLCwvLS4uLSsuLiotLCxAAgAAz7Nt4QEAgABAXQAAAAAAAAB42qWRUQ4AEAxDd7ce03FcTCRIdZ0fksaMvFIRrUcWlni95jl2/9SQHnKtnMsDt5h7GMo0e5Yrb7L3e3kXnDK3bjKCz4zPJR+Xl7CZUfp8ZM95+X8YMV6GEdxAMEdAAgAAeFH2jAEAgABALAAAAAAAAAB42mNgAIGG/QxwQG12gz2SGA3YcH4Dbdi0DBsUP9DYHtrEAwCj5TPR5VIkUYABAAD/6qShAQCAAECIAAAAAAAAAHjaTU/BEYAgDGMZH3UI/PtnHlbhK2zmEkqSFuWOa5MSko5zP0bveV3g4LxP7eEM9d+v+TzkUMHdl/5CJTbHpj9woJ/z1Kr7y5OY/uFd3V85ylb4jjXm9FcO6umvHMLm2KSbPCp1njV2iMzfLrbmymw5dlw7/A71zkVPDW/wwuhf8jeYtHGu0bwAAAAAAAAAAAEAAAAAAAAAAAAAAAAAAAAAAAAAAAMAAEeMYUoBAIAAQDkAAAAAAAAAeNpjYMADEpodUGhc4gnFaPLFOPQV49c3aj9t7CekjlL7MewlYD8heyn2Pw77sLgXAJZIQrXAFzVxAIAAQKQAAAAAAAAAAQAAAAEAAAAAAAAAAAAAAAAAAAAAAAAAAAAAAAAAAAAAAPA/AAAAAAAAAAAAAAAAAAAAAAAAAAAAAAAAAAAAAAAAAAAAAAAAAADwPwAAAAAAAAAAAAAAAAAAAAAAAAAAAAAAAAAAAAAAAAAAAAAAAAAA8D8AAAAAAAAAAAAAAAAAAAAAAAAAAAAAAAAAAAAAAAAAAAAAAAAAAPA/AAAAAGk8mKMAAAAAANIdM569+OX/0h0znr345f/SHTOevfjl/9IdM569+OX/0h0znr345f/SHTOevfjl/3db/T//fwKAAAAAAAAAAAA=\"}'}],\n",
       "    '{1;0}': [{'type': 'Rhino.Geometry.PolylineCurve',\n",
       "      'data': '{\"version\":10000,\"archive3dm\":60,\"opennurbs\":-1905753079,\"data\":\"+n8CAOkAAAAAAAAA+/8CABQAAAAAAAAA5tTXTkfp0xG/5QAQgwEi8E6cu9v8/wIAsQAAAAAAAAAQBQAAAAAAAAAAAAAAAAAAAAAAAAAAAAAAAAAAAAAAAAAAYHNAAAAAAAAAAAAAAAAAAAAAAAAAAAAAAGlAAAAAAACAW0AAAAAAAAAAAAAAAAAAAAAAAAAAAACAW0AAAAAAAAAAAAAAAAAAAAAAAAAAAAAAAAAAAAAAAAAAAAUAAAAAAAAAAAAAAAAAAAAAAPA/AAAAAAAAAEAAAAAAAAAIQAAAAAAAABBAAwAAAONsv3L/fwKAAAAAAAAAAAA=\"}'}],\n",
       "    '{3;0}': [{'type': 'Rhino.Geometry.Point3d',\n",
       "      'data': '{\"X\":200.0,\"Y\":110.0,\"Z\":0.0}'}]}},\n",
       "  {'ParamName': 'BIAS:Line',\n",
       "   'InnerTree': {'{0}': [{'type': 'Rhino.Geometry.Line',\n",
       "      'data': '{\"From\":{\"X\":310.0,\"Y\":0.0,\"Z\":0.0},\"To\":{\"X\":200.0,\"Y\":110.0,\"Z\":0.0}}'}]}}],\n",
       " 'warnings': [],\n",
       " 'errors': []}"
      ]
     },
     "execution_count": 15,
     "metadata": {},
     "output_type": "execute_result"
    }
   ],
   "source": [
    "response = callGrasshopper(r\"C:\\Git\\Studium\\PhD\\semio\\tests\\elements\\RectangleWithMiter.gh\")\n",
    "response\n"
   ]
  },
  {
   "cell_type": "code",
   "execution_count": 16,
   "metadata": {},
   "outputs": [
    {
     "name": "stdout",
     "output_type": "stream",
     "text": [
      "[{'type': 'Rhino.Geometry.Mesh', 'data': '{\"version\":10000,\"archive3dm\":60,\"opennurbs\":-1905753079,\"data\":\"+n8CALIEAAAAAAAA+/8CABQAAAAAAAAA5NTXTkfp0xG/5QAQgwEi8C25G1z8/wIAegQAAAAAAAA4MAAAACQAAAAAAAAAAAAAAAIAAAAA9O8/AAAAAAAAAABVVVVVVUnlPwAAAAAAAAAAAAAAAABgg0AAAAAAAAAAAAAAAAAAYINAAAAAAAAAAAAAAAAAAAAAAAAAgD8AAIA/AACAPwAAgL8AAIC/AACAvwAAgD8AAIA/AACAPwAAgL8AAIC/AACAvwAAgD8AAIA/AACAvwAAgL//////AQCAAECVAAAAAAAAABUAAAAAAAAAAAEAAAAAAAAAAAAAAAAAAAAAAAAALUMc6+I2Gj8AAAAAAAAAAAAAAAAAABhAAAAAAAAAAACHROdKGFfWPwAAAAAAAPA/h0TnShhX1j+HROdKGFe2PwAAAAACAAAAAAAAAAAAAAAAAAEAgABAFQAAAAAAAAABAAAAAgAAAAQAAAACAAAAANmNOQnXEQBhAAAAAAEAAAAGAAQEBgUBAQcGBAQGBwUFBwMFBQIHBAQOCAwMDg0JCQ8ODAwODw0NDwsNDQoPDAwWEBQUFhURERcWFBQWFxUVFxMVFRIXFBQfGBwcHx0ZGR4fHBwfHh0dHhsdHRoeHBwkICcnJCUhISYkJyckJiUlJiMlJSImJycvKCwsLy4pKS0vLCwvLS4uLSsuLiotLCxAAgAAz7Nt4QEAgABAXQAAAAAAAAB42qWRUQ4AEAxDd7ce03FcTCRIdZ0fksaMvFIRrUcWlni95jl2/9SQHnKtnMsDt5h7GMo0e5Yrb7L3e3kXnDK3bjKCz4zPJR+Xl7CZUfp8ZM95+X8YMV6GEdxAMEdAAgAAeFH2jAEAgABALAAAAAAAAAB42mNgAIGG/QxwQG12gz2SGA3YcH4Dbdi0DBsUP9DYHtrEAwCj5TPR5VIkUYABAAD/6qShAQCAAECIAAAAAAAAAHjaTU/BEYAgDGMZH3UI/PtnHlbhK2zmEkqSFuWOa5MSko5zP0bveV3g4LxP7eEM9d+v+TzkUMHdl/5CJTbHpj9woJ/z1Kr7y5OY/uFd3V85ylb4jjXm9FcO6umvHMLm2KSbPCp1njV2iMzfLrbmymw5dlw7/A71zkVPDW/wwuhf8jeYtHGu0bwAAAAAAAAAAAEAAAAAAAAAAAAAAAAAAAAAAAAAAAMAAEeMYUoBAIAAQDkAAAAAAAAAeNpjYMADEpodUGhc4gnFaPLFOPQV49c3aj9t7CekjlL7MewlYD8heyn2Pw77sLgXAJZIQrXAFzVxAIAAQKQAAAAAAAAAAQAAAAEAAAAAAAAAAAAAAAAAAAAAAAAAAAAAAAAAAAAAAPA/AAAAAAAAAAAAAAAAAAAAAAAAAAAAAAAAAAAAAAAAAAAAAAAAAADwPwAAAAAAAAAAAAAAAAAAAAAAAAAAAAAAAAAAAAAAAAAAAAAAAAAA8D8AAAAAAAAAAAAAAAAAAAAAAAAAAAAAAAAAAAAAAAAAAAAAAAAAAPA/AAAAAGk8mKMAAAAAANIdM569+OX/0h0znr345f/SHTOevfjl/9IdM569+OX/0h0znr345f/SHTOevfjl/3db/T//fwKAAAAAAAAAAAA=\"}'}]\n",
      "The item type Rhino.Geometry.Mesh is currently not supported.\n",
      "[{'type': 'Rhino.Geometry.Mesh', 'data': '{\"version\":10000,\"archive3dm\":60,\"opennurbs\":-1905753079,\"data\":\"+n8CALIEAAAAAAAA+/8CABQAAAAAAAAA5NTXTkfp0xG/5QAQgwEi8C25G1z8/wIAegQAAAAAAAA4MAAAACQAAAAAAAAAAAAAAAIAAAAA9O8/AAAAAAAAAABVVVVVVUnlPwAAAAAAAAAAAAAAAABgg0AAAAAAAAAAAAAAAAAAYINAAAAAAAAAAAAAAAAAAAAAAAAAgD8AAIA/AACAPwAAgL8AAIC/AACAvwAAgD8AAIA/AACAPwAAgL8AAIC/AACAvwAAgD8AAIA/AACAvwAAgL//////AQCAAECVAAAAAAAAABUAAAAAAAAAAAEAAAAAAAAAAAAAAAAAAAAAAAAALUMc6+I2Gj8AAAAAAAAAAAAAAAAAABhAAAAAAAAAAACHROdKGFfWPwAAAAAAAPA/h0TnShhX1j+HROdKGFe2PwAAAAACAAAAAAAAAAAAAAAAAAEAgABAFQAAAAAAAAABAAAAAgAAAAQAAAACAAAAANmNOQnXEQBhAAAAAAEAAAAGAAQEBgUBAQcGBAQGBwUFBwMFBQIHBAQOCAwMDg0JCQ8ODAwODw0NDwsNDQoPDAwWEBQUFhURERcWFBQWFxUVFxMVFRIXFBQfGBwcHx0ZGR4fHBwfHh0dHhsdHRoeHBwkICcnJCUhISYkJyckJiUlJiMlJSImJycvKCwsLy4pKS0vLCwvLS4uLSsuLiotLCxAAgAAz7Nt4QEAgABAXQAAAAAAAAB42qWRUQ4AEAxDd7ce03FcTCRIdZ0fksaMvFIRrUcWlni95jl2/9SQHnKtnMsDt5h7GMo0e5Yrb7L3e3kXnDK3bjKCz4zPJR+Xl7CZUfp8ZM95+X8YMV6GEdxAMEdAAgAAeFH2jAEAgABALAAAAAAAAAB42mNgAIGG/QxwQG12gz2SGA3YcH4Dbdi0DBsUP9DYHtrEAwCj5TPR5VIkUYABAAD/6qShAQCAAECIAAAAAAAAAHjaTU/BEYAgDGMZH3UI/PtnHlbhK2zmEkqSFuWOa5MSko5zP0bveV3g4LxP7eEM9d+v+TzkUMHdl/5CJTbHpj9woJ/z1Kr7y5OY/uFd3V85ylb4jjXm9FcO6umvHMLm2KSbPCp1njV2iMzfLrbmymw5dlw7/A71zkVPDW/wwuhf8jeYtHGu0bwAAAAAAAAAAAEAAAAAAAAAAAAAAAAAAAAAAAAAAAMAAEeMYUoBAIAAQDkAAAAAAAAAeNpjYMADEpodUGhc4gnFaPLFOPQV49c3aj9t7CekjlL7MewlYD8heyn2Pw77sLgXAJZIQrXAFzVxAIAAQKQAAAAAAAAAAQAAAAEAAAAAAAAAAAAAAAAAAAAAAAAAAAAAAAAAAAAAAPA/AAAAAAAAAAAAAAAAAAAAAAAAAAAAAAAAAAAAAAAAAAAAAAAAAADwPwAAAAAAAAAAAAAAAAAAAAAAAAAAAAAAAAAAAAAAAAAAAAAAAAAA8D8AAAAAAAAAAAAAAAAAAAAAAAAAAAAAAAAAAAAAAAAAAAAAAAAAAPA/AAAAAGk8mKMAAAAAANIdM569+OX/0h0znr345f/SHTOevfjl/9IdM569+OX/0h0znr345f/SHTOevfjl/3db/T//fwKAAAAAAAAAAAA=\"}'}]\n",
      "The item type Rhino.Geometry.Mesh is currently not supported.\n",
      "[{'type': 'Rhino.Geometry.PolylineCurve', 'data': '{\"version\":10000,\"archive3dm\":60,\"opennurbs\":-1905753079,\"data\":\"+n8CAOkAAAAAAAAA+/8CABQAAAAAAAAA5tTXTkfp0xG/5QAQgwEi8E6cu9v8/wIAsQAAAAAAAAAQBQAAAAAAAAAAAAAAAAAAAAAAAAAAAAAAAAAAAAAAAAAAYHNAAAAAAAAAAAAAAAAAAAAAAAAAAAAAAGlAAAAAAACAW0AAAAAAAAAAAAAAAAAAAAAAAAAAAACAW0AAAAAAAAAAAAAAAAAAAAAAAAAAAAAAAAAAAAAAAAAAAAUAAAAAAAAAAAAAAAAAAAAAAPA/AAAAAAAAAEAAAAAAAAAIQAAAAAAAABBAAwAAAONsv3L/fwKAAAAAAAAAAAA=\"}'}]\n",
      "[{'type': 'Rhino.Geometry.Point3d', 'data': '{\"X\":200.0,\"Y\":110.0,\"Z\":0.0}'}]\n"
     ]
    }
   ],
   "source": [
    "model = parseFileFromOutput(response,'REPRESENTATION')"
   ]
  },
  {
   "cell_type": "code",
   "execution_count": 17,
   "metadata": {},
   "outputs": [
    {
     "data": {
      "text/plain": [
       "b'3D Geometry File Format       70\\x01\\x00\\x00\\x00~\\x00\\x00\\x00\\x00\\x00\\x00\\x00 Runtime: ON::RuntimeEnvironment::Windows 3DM I/O processor: OpenNURBS toolkit version 2386329284 (compiled on Mar 23 2022)\\n\\x1a\\x00\\x14\\x00\\x00\\x10\\x0b\\x01\\x00\\x00\\x00\\x00\\x00\\x00&\\x00\\x00\\xa0\\xc4~<\\x8e\\x00\\x00\\x00\\x00\\'\\x80\\x00 v\\x00\\x00\\x00\\x00\\x00\\x00\\x007\\x00\\x00\\x00C\\x00:\\x00\\\\\\x00U\\x00s\\x00e\\x00r\\x00s\\x00\\\\\\x00U\\x00e\\x00l\\x00i\\x00\\\\\\x00A\\x00p\\x00p\\x00D\\x00a\\x00t\\x00a\\x00\\\\\\x00L\\x00o\\x00c\\x00a\\x00l\\x00\\\\\\x00T\\x00e\\x00m\\x00p\\x00\\\\\\x00t\\x00m\\x00p\\x00p\\x001\\x00z\\x00v\\x003\\x00n\\x00v\\x00u\\x00\\\\\\x00m\\x00o\\x00d\\x00e\\x00l\\x00.\\x003\\x00d\\x00m\\x00\\x00\\x00\\xd2\\x90\\xe0m!\\x80\\x00 e\\x00\\x00\\x00\\x00\\x00\\x00\\x00\\x10\\x05\\x00\\x00\\x00U\\x00e\\x00l\\x00i\\x00\\x00\\x00%\\x00\\x00\\x002\\x00\\x00\\x00\\x12\\x00\\x00\\x00\\x0e\\x00\\x00\\x00\\x00\\x00\\x00\\x00{\\x00\\x00\\x00\\x06\\x00\\x00\\x00\\r\\x00\\x00\\x00\\x05\\x00\\x00\\x00U\\x00e\\x00l\\x00i\\x00\\x00\\x00%\\x00\\x00\\x002\\x00\\x00\\x00\\x12\\x00\\x00\\x00\\x0e\\x00\\x00\\x00\\x00\\x00\\x00\\x00{\\x00\\x00\\x00\\x06\\x00\\x00\\x00\\r\\x00\\x00\\x00\\x01\\x00\\x00\\x00\\x1f\\xd6\\xcb\\x12\\xff\\xff\\xff\\xff\\x00\\x00\\x00\\x00\\x00\\x00\\x00\\x00\\x15\\x00\\x00\\x10\\xd1\\x05\\x00\\x00\\x00\\x00\\x00\\x001\\x80\\x00 8\\x00\\x00\\x00\\x00\\x00\\x00\\x00f\\x00\\x00\\x00\\x02\\x00\\x00\\x00\\xfc\\xa9\\xf1\\xd2MbP?9\\x9dR\\xa2F\\xdf\\x91?{\\x14\\xaeG\\xe1z\\x84?\\x00\\x00\\x00\\x00\\x03\\x00\\x00\\x00\\xfc\\xa9\\xf1\\xd2MbP?\\x00\\x00\\x00\\x00s\\x12\\xb8\\x052\\x80\\x00 \\x95\\x00\\x00\\x00\\x00\\x00\\x00\\x00\\x15\\x00\\x00\\x00\\x00\\x00\\x00\\x00\\x00\\x01\\x00\\x00\\x00\\x00\\x00\\x00\\x00\\x00\\x00\\x00\\x00\\x00\\x00\\x00\\x00\\x00\\x00\\x00\\x00-C\\x1c\\xeb\\xe26\\x1a?\\x00\\x00\\x00\\x00\\x00\\x00\\x00\\x00\\x00\\x00\\x00\\x00\\x00\\x00\\x18@\\x00\\x00\\x00\\x00\\x00\\x00\\x00\\x00\\x87D\\xe7J\\x18W\\xd6?\\x00\\x00\\x00\\x00\\x00\\x00\\xf0?\\x87D\\xe7J\\x18W\\xd6?\\x87D\\xe7J\\x18W\\xb6?\\x00\\x00\\x00\\x00\\x02\\x00\\x00\\x00\\x00\\x00\\x00\\x00\\x00\\x00\\x00\\x00\\x00\\x00\\x01\\x00\\x80\\x00@\\x15\\x00\\x00\\x00\\x00\\x00\\x00\\x00\\x01\\x00\\x00\\x00\\x02\\x00\\x00\\x00\\x04\\x00\\x00\\x00\\x02\\x00\\x00\\x00\\x00\\xd9\\x8d9\\t\\xd7\\x11\\x00a3\\x80\\x00 \\x95\\x00\\x00\\x00\\x00\\x00\\x00\\x00\\x15\\x01\\x00\\x00\\x00\\x00\\x00\\x00\\x00\\x01\\x00\\x00\\x00\\x00\\x00\\x00\\x00\\x00\\x00\\x00\\x00\\x00\\x00\\x00\\x00\\x00\\x00\\x00\\x00-C\\x1c\\xeb\\xe26\\x1a?\\x00\\x00\\x00\\x00\\x00\\x00\\x00\\x00\\x00\\x00\\x00\\x00\\x00\\x00\\x00\\x00\\x10\\x00\\x00\\x00\\x00\\x00\\x00\\x00\\x87D\\xe7J\\x18W\\xd6?\\x00\\x00\\x00\\x00\\x00\\x00\\xf0?\\x87D\\xe7J\\x18W\\xd6?\\x87D\\xe7J\\x18W\\xb6?\\x00\\x00\\x00\\x00\\x01\\x00\\x00\\x00\\x00\\x9a\\x99\\x99\\x99\\x99\\x99\\xe9?\\x00\\x01\\x00\\x80\\x00@\\x15\\x00\\x00\\x00\\x00\\x00\\x00\\x00\\x01\\x00\\x00\\x00\\x02\\x00\\x00\\x00\\x04\\x00\\x00\\x00\\x02\\x00\\x00\\x00\\x00\\xd9\\x8d9\\t\\xb2\\xda\\xbe\\xd94\\x80\\x00 q\\x00\\x00\\x00\\x00\\x00\\x00\\x00\\x13\\x00\\x00\\x00\\x00\\x00\\x00\\xf0?\\x00\\x00\\x00\\x00\\x00\\x00\\xf0?\\x00\\x00\\x00\\x00\\x00\\x00\\xf0?\\x00\\x00\\x00\\x00\\x00\\x00\\xf0?\\x00\\x00\\x00\\x00\\x00\\x00\\xf0?\\x00\\x00\\x00\\x00\\x00\\x00\\xf0?\\x00\\x00\\x00\\x00\\x00\\x00\\xf0?\\x00\\x00\\x00\\x00\\x00\\x00\\x00\\x00\\x00\\x00\\x00\\x00\\x00\\x00\\x00\\x00\\x00\\x00\\x00\\x00\\x02\\x00\\x00\\x00\\x00\\x00\\x00\\x00\\x00\\x00\\x00\\x00\\x00\\x00\\x00\\x00\\x00\\x00\\xf0?\\x01\\x00\\x00\\x00\\x00\\x00\\x00\\xf0?\\x01\\x01\\x01\\xe4\\x00\\r\\x195\\x80\\x00 \\x08\\x00\\x00\\x00\\x00\\x00\\x00\\x00\\x00\\x00\\x00\\x00\\x1c\\xdfD!6\\x80\\x00 \\x08\\x00\\x00\\x00\\x00\\x00\\x00\\x00\\x00\\x00\\x00\\x00\\x1c\\xdfD!7\\x80\\x00 \\x08\\x00\\x00\\x00\\x00\\x00\\x00\\x00\\x00\\x00\\x00\\x00\\x1c\\xdfD!8\\x00\\x00\\xa0\\x00\\x00\\x00\\x00\\x00\\x00\\x00\\x009\\x80\\x00 \\x0c\\x00\\x00\\x00\\x00\\x00\\x00\\x00\\xff\\xff\\xff\\xff\\x00\\x00\\x00\\x00\\xff\\xff\\xff\\xff:\\x80\\x00 \\x0c\\x00\\x00\\x00\\x00\\x00\\x00\\x00\\x00\\x00\\x00\\x00\\x00\\x00\\x00\\x00i\\xdf\"e<\\x00\\x00\\xa0\\x01\\x00\\x00\\x00\\x00\\x00\\x00\\x00=\\x80\\x00 \\x99\\x00\\x00\\x00\\x00\\x00\\x00\\x00\\x00\\x80\\x00@\\x89\\x00\\x00\\x00\\x00\\x00\\x00\\x00\\x01\\x00\\x00\\x00\\x03\\x00\\x00\\x00\\x00 \\x03\\x00\\x00X\\x02\\x00\\x00\\x00\\x00\\x00\\x00\\x00\\x00R@\\x08\\x00\\x00\\x00\\x00\\x00\\x00\\x00\\x00\\x00\\x00\\x00\\xff\\xff\\xff\\x00\\xa0\\xa0\\xa0\\x00\\x00\\x00\\x00\\x00\\x00\\x00\\x00\\x01\\x00\\x00\\x00\\x00\\x00\\x00\\x00\\x01\\x00\\x00\\x00\\x01\\x00\\x00\\x00\\xe8\\x03\\x00\\x00\\xe8\\x03\\x00\\x00\\x00\\x00\\x00\\x00\\x00\\x00\\xe8?\\x00\\x00\\x00\\x00\\x00\\x00\\x00\\x00\\x00\\x00Y@\\x00\\x00\\x00\\x00\\x00\\x00P@\\x9a\\x99\\x99\\x99\\x99\\x99\\xb9?\\n\\x00\\x00\\x00\\x00\\x00\\x00\\x00\\x00\\x00\\x00\\x00\\x00\\x00\\x00\\x00\\x00\\x00\\x00\\x00\\x00\\x8c\\xba\\x87;\\x00\\x00\\x00\\x00?\\x80\\x00 )\\x00\\x00\\x00\\x00\\x00\\x00\\x00\\x10\\x00\\x00\\x00\\x00\\x00\\x00\\xf0?\\x00\\x00\\x00\\x00\\x00\\x00\\xf0?F\\x00\\x00\\x00\\x05\\x00\\x00\\x00\\x01\\x00\\x00\\x00\\x01\\x00\\x00\\x00\\x01\\x00\\x00\\x00\\x84\\xe9\\xca\\xe22\\x01\\x00\\xa0\\x00\\x00\\x00\\x00\\x00\\x00\\x00\\x003\\x01\\x00\\xa0\\x00\\x00\\x00\\x00\\x00\\x00\\x00\\x004\\x81\\x00 @\\x02\\x00\\x00\\x00\\x00\\x00\\x00\\x17\\x00\\x00\\x00\\x00\\x00\\x00\\xf0?\\xff\\xff\\xff\\xff\\x00\\x00\\x00\\x00\\xff\\xff\\xff\\xff\\x00\\x00\\x00\\x00\\x00\\x80\\x00@@\\x00\\x00\\x00\\x00\\x00\\x00\\x00\\x01\\x00\\x00\\x00\\x00\\x00\\x00\\x00f\\x00\\x00\\x00\\x02\\x00\\x00\\x00\\xfc\\xa9\\xf1\\xd2MbP?9\\x9dR\\xa2F\\xdf\\x91?{\\x14\\xaeG\\xe1z\\x84?\\x00\\x00\\x00\\x00\\x03\\x00\\x00\\x00\\xfc\\xa9\\xf1\\xd2MbP?\\x00\\x00\\x00\\x00D\\x1aR\\x07\\x00\\x00\\x00\\x00\\x00\\x00\\x00\\x00\\x00\\x00\\x00\\x00\\x00\\x00\\x00\\x00\\x00\\x00\\x00\\x00\\x00\\x00\\x00\\x00\\x00\\x00\\x00\\x00\\x00\\x00\\x00\\x00\\x00\\x00\\x00\\x00\\x00\\x00\\x00\\x00\\x00\\x80\\x00@\\x94\\x00\\x00\\x00\\x00\\x00\\x00\\x00\\x01\\x00\\x00\\x00\\x02\\x00\\x00\\x00\\xd2\\x1d3\\x9e\\xbd\\xf8\\xe5\\xff\\xd2\\x1d3\\x9e\\xbd\\xf8\\xe5\\xff\\x00\\x00\\x00\\x00\\x00\\x00\\x00\\x00\\x00\\x00\\x00\\x00\\x00\\x00\\x00\\x00\\x00\\x00\\x00\\x00\\x00\\x00\\x00\\x00\\x00\\x00\\x00\\x00\\x00\\x00\\x00\\x00\\x00\\x00\\x00\\x00\\x00\\x00\\x00\\x00\\x00\\x00\\x00\\x00\\x00\\x00\\xf0?\\x00\\x00\\x00\\x00\\x00\\x00\\x00\\x00\\x00\\x00\\x00\\x00\\x00\\x00\\xf0?\\x00\\x00\\x00\\x00\\x00\\x00\\x00\\x00\\x00\\x00\\x00\\x00\\x00\\x00\\x00\\x00\\x00\\x00\\x00\\x00\\x00\\x00\\x00\\x00\\x00\\x00\\x00\\x00\\x00\\x00\\x00\\x00\\x00\\x00\\x00\\x00\\x00\\x00\\x00\\x00\\x00\\x00\\x00\\x00\\x00\\x00\\x00\\x00\\x00\\x00\\x00\\x00\\x00\\x00\\x00\\x00\\x89\\xe0\\xa6\\xa9\\x00\\x00\\x80\\x00@\\x11\\x00\\x00\\x00\\x00\\x00\\x00\\x00\\x01\\x00\\x00\\x00\\x00\\x00\\x00\\x00\\x00\\x01\\x00\\x00\\x00b\\xf8^j\\x15\\x00\\x00\\x00\\x00\\x00\\x00\\x00\\x00\\x01\\x00\\x00\\x00\\x00\\x00\\x00\\x00\\x00\\x00\\x00\\x00\\x00\\x00\\x00\\x00\\x00\\x00\\x00\\x00-C\\x1c\\xeb\\xe26\\x1a?\\x00\\x00\\x00\\x00\\x00\\x00\\x00\\x00\\x00\\x00\\x00\\x00\\x00\\x00\\x18@\\x00\\x00\\x00\\x00\\x00\\x00\\x00\\x00\\x87D\\xe7J\\x18W\\xd6?\\x00\\x00\\x00\\x00\\x00\\x00\\xf0?\\x87D\\xe7J\\x18W\\xd6?\\x87D\\xe7J\\x18W\\xb6?\\x00\\x00\\x00\\x00\\x02\\x00\\x00\\x00\\x00\\x00\\x00\\x00\\x00\\x00\\x00\\x00\\x00\\x00\\x01\\x00\\x80\\x00@\\x15\\x00\\x00\\x00\\x00\\x00\\x00\\x00\\x01\\x00\\x00\\x00\\x02\\x00\\x00\\x00\\x04\\x00\\x00\\x00\\x02\\x00\\x00\\x00\\x00\\xd9\\x8d9\\t\\x00\\x00\\x00\\x00\\x00\\x00\\x00\\x00\\x00\\x00\\x00\\x00\\x00\\x00\\x00\\x00\\x00\\x00\\x00\\x00\\x00\\x00\\x00\\x00\\x00\\x00\\x00\\x00\\x00\\x00\\x00\\x00\\x00\\x00\\x00\\x00\\x00\\x00\\x00\\x00\\x00\\x00\\x00\\x00\\x00\\x00\\x00\\x00\\x00\\x00\\x00\\x00\\x00\\x00\\x00\\x00\\x00\\x00\\x00\\x00\\x00\\x00\\x00\\x00\\x00\\x00\\x00\\x00\\x00\\x00\\x00\\x00\\x00\\x00\\x00\\x00\\x00\\x00\\x00\\x00\\x00\\x00\\x00\\x00\\x00\\x00\\x00\\x00\\x00\\x00\\x00\\x00\\x00\\x00\\x00\\x00\\xedG\\xac\\x8d\\xff\\xff\\xff\\xff\\x00\\x00\\x00\\x00\\x00\\x00\\x00\\x00\\x16\\x00\\x00\\x10\\x0c\\x00\\x00\\x00\\x00\\x00\\x00\\x00\\xff\\xff\\xff\\xff\\x00\\x00\\x00\\x00\\x00\\x00\\x00\\x00%\\x00\\x00\\x10\\x0c\\x00\\x00\\x00\\x00\\x00\\x00\\x00\\xff\\xff\\xff\\xff\\x00\\x00\\x00\\x00\\x00\\x00\\x00\\x00\\x10\\x00\\x00\\x10\\x0c\\x00\\x00\\x00\\x00\\x00\\x00\\x00\\xff\\xff\\xff\\xff\\x00\\x00\\x00\\x00\\x00\\x00\\x00\\x00#\\x00\\x00\\x10\\x0c\\x00\\x00\\x00\\x00\\x00\\x00\\x00\\xff\\xff\\xff\\xff\\x00\\x00\\x00\\x00\\x00\\x00\\x00\\x00\\x11\\x00\\x00\\x10\\x12\\x01\\x00\\x00\\x00\\x00\\x00\\x00P\\x80\\x00 \\xfa\\x00\\x00\\x00\\x00\\x00\\x00\\x00\\xfa\\x7f\\x02\\x00\\xea\\x00\\x00\\x00\\x00\\x00\\x00\\x00\\xfb\\xff\\x02\\x00\\x14\\x00\\x00\\x00\\x00\\x00\\x00\\x00\\x13\\x98\\x80\\x95\\x85\\xe9\\xd3\\x11\\xbf\\xe5\\x00\\x10\\x83\\x01\"\\xf0;G\\x07\\x1d\\xfc\\xff\\x02\\x00\\xb2\\x00\\x00\\x00\\x00\\x00\\x00\\x00\\x18\\x00\\x00\\x00\\x00\\x00\\x00\\x00\\x00\\xff\\xff\\xff\\xff\\xff\\xff\\xff\\xff\\x00\\x00\\x00\\x00\\x00\\x00\\x00\\x00\\x00\\x00\\x00\\x00\\x00\\x00\\x00\\x00\\x00\\x00\\x00\\x00\\x00\\x00\\x00\\x00\\x00\\x00\\xf0?\\x0f\\x00\\x00\\x00R\\x00E\\x00P\\x00R\\x00E\\x00S\\x00E\\x00N\\x00T\\x00A\\x00T\\x00I\\x00O\\x00N\\x00\\x00\\x00\\x01\\xff\\xff\\xff\\xff\\xff\\xff\\xff\\xff\\x00\\x00\\x00\\x00\\x00\\x00\\x00\\x00\\x00\"7\\xa1\\x0c\\\\\\x04\\xf0M\\x807R\\x99\\xeer\\x14\\xb4\\x00\\x00\\x00\\x00\\x00\\x00\\x00\\x00\\x00\\x00\\x00\\x00\\x00\\x00\\x00\\x00\\x01\\x00\\x80\\x00@\\x10\\x00\\x00\\x00\\x00\\x00\\x00\\x00\\x01\\x00\\x00\\x00\\x00\\x00\\x00\\x00\\x00\\x00\\x00\\x00\\x00\\x8ap\\xe0\\x00\\x00\\x00\\x00\\x00\\x00\\x00\\x00\\x00\\x00\\x00\\x00\\x00\\x00\\x00\\x00\\x02d\\xa0\\xb9\\xff\\x7f\\x02\\x80\\x00\\x00\\x00\\x00\\x00\\x00\\x00\\x00\\x00\\x00\\x00\\x00\\xff\\xff\\xff\\xff\\x00\\x00\\x00\\x00\\x00\\x00\\x00\\x00\\x18\\x00\\x00\\x10\\x0c\\x00\\x00\\x00\\x00\\x00\\x00\\x00\\xff\\xff\\xff\\xff\\x00\\x00\\x00\\x00\\x00\\x00\\x00\\x00\\x19\\x00\\x00\\x10\\x0c\\x00\\x00\\x00\\x00\\x00\\x00\\x00\\xff\\xff\\xff\\xff\\x00\\x00\\x00\\x00\\x00\\x00\\x00\\x00 \\x00\\x00\\x10\\x0c\\x00\\x00\\x00\\x00\\x00\\x00\\x00\\xff\\xff\\xff\\xff\\x00\\x00\\x00\\x00\\x00\\x00\\x00\\x00\\x12\\x00\\x00\\x10\\x0c\\x00\\x00\\x00\\x00\\x00\\x00\\x00\\xff\\xff\\xff\\xff\\x00\\x00\\x00\\x00\\x00\\x00\\x00\\x00\"\\x00\\x00\\x10\\x0c\\x00\\x00\\x00\\x00\\x00\\x00\\x00\\xff\\xff\\xff\\xff\\x00\\x00\\x00\\x00\\x00\\x00\\x00\\x00!\\x00\\x00\\x10\\x0c\\x00\\x00\\x00\\x00\\x00\\x00\\x00\\xff\\xff\\xff\\xff\\x00\\x00\\x00\\x00\\x00\\x00\\x00\\x00\\x13\\x00\\x00\\x10\\xfe\\x01\\x00\\x00\\x00\\x00\\x00\\x00p\\x80\\x00 7\\x01\\x00\\x00\\x00\\x00\\x00\\x00q\\x00\\x00\\x82\\x04\\x00\\x00\\x00\\x00\\x00\\x00\\x00\\xfa\\x7f\\x02\\x00\\xe9\\x00\\x00\\x00\\x00\\x00\\x00\\x00\\xfb\\xff\\x02\\x00\\x14\\x00\\x00\\x00\\x00\\x00\\x00\\x00\\xe6\\xd4\\xd7NG\\xe9\\xd3\\x11\\xbf\\xe5\\x00\\x10\\x83\\x01\"\\xf0N\\x9c\\xbb\\xdb\\xfc\\xff\\x02\\x00\\xb1\\x00\\x00\\x00\\x00\\x00\\x00\\x00\\x10\\x05\\x00\\x00\\x00\\x00\\x00\\x00\\x00\\x00\\x00\\x00\\x00\\x00\\x00\\x00\\x00\\x00\\x00\\x00\\x00\\x00\\x00\\x00\\x00\\x00\\x00\\x00\\x00\\x00\\x00\\x00\\x00\\x00`s@\\x00\\x00\\x00\\x00\\x00\\x00\\x00\\x00\\x00\\x00\\x00\\x00\\x00\\x00\\x00\\x00\\x00\\x00\\x00\\x00\\x00\\x00i@\\x00\\x00\\x00\\x00\\x00\\x80[@\\x00\\x00\\x00\\x00\\x00\\x00\\x00\\x00\\x00\\x00\\x00\\x00\\x00\\x00\\x00\\x00\\x00\\x00\\x00\\x00\\x00\\x80[@\\x00\\x00\\x00\\x00\\x00\\x00\\x00\\x00\\x00\\x00\\x00\\x00\\x00\\x00\\x00\\x00\\x00\\x00\\x00\\x00\\x00\\x00\\x00\\x00\\x00\\x00\\x00\\x00\\x00\\x00\\x00\\x00\\x05\\x00\\x00\\x00\\x00\\x00\\x00\\x00\\x00\\x00\\x00\\x00\\x00\\x00\\x00\\x00\\x00\\x00\\xf0?\\x00\\x00\\x00\\x00\\x00\\x00\\x00@\\x00\\x00\\x00\\x00\\x00\\x00\\x08@\\x00\\x00\\x00\\x00\\x00\\x00\\x10@\\x03\\x00\\x00\\x00\\xe3l\\xbfr\\xff\\x7f\\x02\\x80\\x00\\x00\\x00\\x00\\x00\\x00\\x00\\x00r\\x80\\x00\\x02\\x1a\\x00\\x00\\x00\\x00\\x00\\x00\\x00!3\\xad\\x9cv>d\\xedD\\x88;C\\xe6\\x9a\\x0b66\\x00\\x00\\x00\\x00\\x00g\\xd4\\xbf5\\x7f\\x00\\x00\\x82\\x00\\x00\\x00\\x00\\x00\\x00\\x00\\x00\\x00\\x00\\x00\\x00p\\x80\\x00 \\xa3\\x00\\x00\\x00\\x00\\x00\\x00\\x00q\\x00\\x00\\x82\\x01\\x00\\x00\\x00\\x00\\x00\\x00\\x00\\xfa\\x7f\\x02\\x00U\\x00\\x00\\x00\\x00\\x00\\x00\\x00\\xfb\\xff\\x02\\x00\\x14\\x00\\x00\\x00\\x00\\x00\\x00\\x00\\x1d\\x1a\\x10\\xc3W\\xf1\\xd3\\x11\\xbf\\xe7\\x00\\x10\\x83\\x01\"\\xf0LT\\x07\\xa4\\xfc\\xff\\x02\\x00\\x1d\\x00\\x00\\x00\\x00\\x00\\x00\\x00\\x10\\x00\\x00\\x00\\x00\\x00\\x00i@\\x00\\x00\\x00\\x00\\x00\\x80[@\\x00\\x00\\x00\\x00\\x00\\x00\\x00\\x00\\x8f\\xd7\\xd1\\x1b\\xff\\x7f\\x02\\x80\\x00\\x00\\x00\\x00\\x00\\x00\\x00\\x00r\\x80\\x00\\x02\\x1a\\x00\\x00\\x00\\x00\\x00\\x00\\x00!\\x99\\xadSt\\x0cE\\xa0F\\xb6\\x9d\\xf5\\xc9\\xae\\x99\\x12\\xba\\x00\\x00\\x00\\x00\\x00\\xd6Ffl\\x7f\\x00\\x00\\x82\\x00\\x00\\x00\\x00\\x00\\x00\\x00\\x00\\x00\\x00\\x00\\x00\\xff\\xff\\xff\\xff\\x00\\x00\\x00\\x00\\x00\\x00\\x00\\x00&\\x00\\x00\\x10\\x0c\\x00\\x00\\x00\\x00\\x00\\x00\\x00\\xff\\xff\\xff\\xff\\x00\\x00\\x00\\x00\\x00\\x00\\x00\\x00\\xff\\x7f\\x00\\x00\\x08\\x00\\x00\\x00\\x00\\x00\\x00\\x00\\xe2\\x0b\\x00\\x00\\x00\\x00\\x00\\x00'"
      ]
     },
     "execution_count": 17,
     "metadata": {},
     "output_type": "execute_result"
    }
   ],
   "source": [
    "\n",
    "byteModel\n"
   ]
  },
  {
   "cell_type": "code",
   "execution_count": 18,
   "metadata": {},
   "outputs": [
    {
     "data": {
      "text/plain": [
       "True"
      ]
     },
     "execution_count": 18,
     "metadata": {},
     "output_type": "execute_result"
    }
   ],
   "source": [
    "file = File3dm.FromByteArray(byteModel)\n",
    "file.Write('after.3dm')\n"
   ]
  },
  {
   "cell_type": "code",
   "execution_count": null,
   "metadata": {},
   "outputs": [],
   "source": [
    "Any()"
   ]
  }
 ],
 "metadata": {
  "kernelspec": {
   "display_name": "semio",
   "language": "python",
   "name": "python3"
  },
  "language_info": {
   "codemirror_mode": {
    "name": "ipython",
    "version": 3
   },
   "file_extension": ".py",
   "mimetype": "text/x-python",
   "name": "python",
   "nbconvert_exporter": "python",
   "pygments_lexer": "ipython3",
   "version": "3.10.5 | packaged by conda-forge | (main, Jun 14 2022, 06:57:19) [MSC v.1929 64 bit (AMD64)]"
  },
  "orig_nbformat": 4,
  "vscode": {
   "interpreter": {
    "hash": "6fe1706fc952e1fa97ed354812fc5bf2716c2c3db4eca3b0a8e0380eb2c25a23"
   }
  }
 },
 "nbformat": 4,
 "nbformat_minor": 2
}
