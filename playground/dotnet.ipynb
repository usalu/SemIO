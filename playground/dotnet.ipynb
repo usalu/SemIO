{
 "cells": [
  {
   "cell_type": "code",
   "execution_count": 1,
   "metadata": {
    "dotnet_interactive": {
     "language": "csharp"
    },
    "polyglot_notebook": {
     "kernelName": "csharp"
    },
    "vscode": {
     "languageId": "polyglot-notebook"
    }
   },
   "outputs": [
    {
     "data": {
      "text/html": [
       "<div><div></div><div></div><div><strong>Installed Packages</strong><ul><li><span>dotNetRdf, 3.0.1</span></li><li><span>dotNetRdf.Dynamic, 3.0.1</span></li></ul></div></div>"
      ]
     },
     "metadata": {},
     "output_type": "display_data"
    }
   ],
   "source": [
    "#r \"nuget: dotNetRdf, 3.0.1\"\n",
    "#r \"nuget: dotNetRdf.Dynamic, 3.0.1\""
   ]
  },
  {
   "cell_type": "code",
   "execution_count": 4,
   "metadata": {
    "dotnet_interactive": {
     "language": "csharp"
    },
    "polyglot_notebook": {
     "kernelName": "csharp"
    },
    "vscode": {
     "languageId": "polyglot-notebook"
    }
   },
   "outputs": [],
   "source": [
    "using System;\n",
    "using System.Collections.Generic;\n",
    "using VDS.RDF;\n",
    "using VDS.RDF.Writing;\n",
    "using VDS.RDF.Dynamic;\n",
    "using VDS.RDF.Parsing;"
   ]
  },
  {
   "cell_type": "code",
   "execution_count": 3,
   "metadata": {
    "dotnet_interactive": {
     "language": "csharp"
    },
    "polyglot_notebook": {
     "kernelName": "csharp"
    },
    "vscode": {
     "languageId": "polyglot-notebook"
    }
   },
   "outputs": [
    {
     "data": {
      "text/plain": [
       "@prefix rdf: <http://www.w3.org/1999/02/22-rdf-syntax-ns#>.\r\n",
       "@prefix rdfs: <http://www.w3.org/2000/01/rdf-schema#>.\r\n",
       "@prefix xsd: <http://www.w3.org/2001/XMLSchema#>.\r\n",
       "@prefix se: <http://github.com/usalu/semio/schema/linkeddata/semio.ttl#>.\r\n",
       "@prefix sr: <http://github.com/usalu/semio/examples/nakagincapsuletower/repository.ttl#>.\r\n",
       "\r\n",
       "<sr:s> <sr:p> \"o\"^^<http://www.w3.org/2001/XMLSchema#string>.\r\n"
      ]
     },
     "metadata": {},
     "output_type": "display_data"
    }
   ],
   "source": [
    "var g = new Graph();\n",
    "g.NamespaceMap.AddNamespace(\"se\", new Uri(\"http://github.com/usalu/semio/schema/linkeddata/semio.ttl#\"));\n",
    "var d = g.AsDynamic(UriFactory.Create(\"sr:\"));\n",
    "d[\"s\"] = new { p = \"o\" };\n",
    "g.NamespaceMap.AddNamespace(\"sr\", new Uri(\"http://github.com/usalu/semio/examples/nakagincapsuletower/repository.ttl#\"));\n",
    "var writer = new CompressingTurtleWriter();\n",
    "String data = StringWriter.Write(g, writer);\n",
    "data"
   ]
  },
  {
   "cell_type": "code",
   "execution_count": 38,
   "metadata": {
    "dotnet_interactive": {
     "language": "csharp"
    },
    "polyglot_notebook": {
     "kernelName": "csharp"
    },
    "vscode": {
     "languageId": "polyglot-notebook"
    }
   },
   "outputs": [
    {
     "data": {
      "text/plain": [
       "@base <file:///C:/git/semio/examples/metabolism/.semio/archive.ttl>.\r\n",
       "\r\n",
       "@prefix rdf: <http://www.w3.org/1999/02/22-rdf-syntax-ns#>.\r\n",
       "@prefix rdfs: <http://www.w3.org/2000/01/rdf-schema#>.\r\n",
       "@prefix xsd: <http://www.w3.org/2001/XMLSchema#>.\r\n",
       "@prefix mba: <https://github.com/usalu/semio/examples/metabolism/>.\r\n",
       "@prefix se: <https://github.com/usalu/semio/releases/download/v1/semio-v1.ttl#>.\r\n",
       "@prefix bct: <https://github.com/usalu/semio/examples/metabolism/.semio/types/bc.ttl#>.\r\n",
       "@prefix bcmt: <https://github.com/usalu/semio/examples/metabolism/.semio/types/bcm.ttl#>.\r\n",
       "@prefix ctd: <https://github.com/usalu/semio/examples/metabolism/.semio/designs/ct.ttl#>.\r\n",
       "\r\n",
       "bct:bc rdf:ID \"bc\";\r\n",
       "       rdf:Property [rdfs:label \"Length\" ; \r\n",
       "                     rdf:value 4.2 ; \r\n",
       "                     se:unit \"m\"],\r\n",
       "                    [rdfs:label \"Width\" ; \r\n",
       "                     rdf:value 2.5 ; \r\n",
       "                     se:unit \"m\"],\r\n",
       "                    [rdfs:label \"Height\" ; \r\n",
       "                     rdf:value 2.7 ; \r\n",
       "                     se:unit \"m\"],\r\n",
       "                    [rdfs:label \"Volume\" ; \r\n",
       "                     rdf:value \"\"\"{\r\n",
       "      \\\"basePlane\\\": {\r\n",
       "        \\\"origin\\\": {\r\n",
       "          \\\"bbox\\\": null,\r\n",
       "          \\\"x\\\": 0.0,\r\n",
       "          \\\"y\\\": 0.0,\r\n",
       "          \\\"z\\\": 0.0,\r\n",
       "          \\\"units\\\": \\\"m\\\",\r\n",
       "          \\\"totalChildrenCount\\\": 0,\r\n",
       "          \\\"applicationId\\\": null,\r\n",
       "          \\\"speckle_type\\\": \\\"Objects.Geometry.Point\\\",\r\n",
       "          \\\"id\\\": \\\"d2101c38602a0f375d18a2e7eae904f7\\\"\r\n",
       "        },\r\n",
       "        \\\"normal\\\": {\r\n",
       "          \\\"bbox\\\": null,\r\n",
       "          \\\"units\\\": \\\"m\\\",\r\n",
       "          \\\"x\\\": 0.0,\r\n",
       "          \\\"y\\\": 0.0,\r\n",
       "          \\\"z\\\": 1.0,\r\n",
       "          \\\"Length\\\": 1.0,\r\n",
       "          \\\"totalChildrenCount\\\": 0,\r\n",
       "          \\\"applicationId\\\": null,\r\n",
       "          \\\"speckle_type\\\": \\\"Objects.Geometry.Vector\\\",\r\n",
       "          \\\"id\\\": \\\"bc8eedd2e953a39968de009d50500c27\\\"\r\n",
       "        },\r\n",
       "        \\\"xdir\\\": {\r\n",
       "          \\\"bbox\\\": null,\r\n",
       "          \\\"units\\\": \\\"m\\\",\r\n",
       "          \\\"x\\\": 1.0,\r\n",
       "          \\\"y\\\": 0.0,\r\n",
       "          \\\"z\\\": 0.0,\r\n",
       "          \\\"Length\\\": 1.0,\r\n",
       "          \\\"totalChildrenCount\\\": 0,\r\n",
       "          \\\"applicationId\\\": null,\r\n",
       "          \\\"speckle_type\\\": \\\"Objects.Geometry.Vector\\\",\r\n",
       "          \\\"id\\\": \\\"c593fd5be3a3ae210ff4e3124503b0aa\\\"\r\n",
       "        },\r\n",
       "        \\\"ydir\\\": {\r\n",
       "          \\\"bbox\\\": null,\r\n",
       "          \\\"units\\\": \\\"m\\\",\r\n",
       "          \\\"x\\\": 0.0,\r\n",
       "          \\\"y\\\": 1.0,\r\n",
       "          \\\"z\\\": 0.0,\r\n",
       "          \\\"Length\\\": 1.0,\r\n",
       "          \\\"totalChildrenCount\\\": 0,\r\n",
       "          \\\"applicationId\\\": null,\r\n",
       "          \\\"speckle_type\\\": \\\"Objects.Geometry.Vector\\\",\r\n",
       "          \\\"id\\\": \\\"8279cad1f3a62a8145aa90436be41edc\\\"\r\n",
       "        },\r\n",
       "        \\\"units\\\": \\\"m\\\",\r\n",
       "        \\\"totalChildrenCount\\\": 0,\r\n",
       "        \\\"applicationId\\\": null,\r\n",
       "        \\\"speckle_type\\\": \\\"Objects.Geometry.Plane\\\",\r\n",
       "        \\\"id\\\": \\\"ed96fe7a3cd7b29706e381bf58c9099f\\\"\r\n",
       "      },\r\n",
       "      \\\"xSize\\\": {\r\n",
       "        \\\"start\\\": -4.2,\r\n",
       "        \\\"end\\\": 4.2,\r\n",
       "        \\\"totalChildrenCount\\\": 0,\r\n",
       "        \\\"applicationId\\\": null,\r\n",
       "        \\\"speckle_type\\\": \\\"Objects.Primitive.Interval\\\",\r\n",
       "        \\\"id\\\": \\\"33e4a25b595c287ff220ca47bff8b6a4\\\"\r\n",
       "      },\r\n",
       "      \\\"ySize\\\": {\r\n",
       "        \\\"start\\\": -2.7,\r\n",
       "        \\\"end\\\": 2.7,\r\n",
       "        \\\"totalChildrenCount\\\": 0,\r\n",
       "        \\\"applicationId\\\": null,\r\n",
       "        \\\"speckle_type\\\": \\\"Objects.Primitive.Interval\\\",\r\n",
       "        \\\"id\\\": \\\"e8527396213f42b4c514b7ee91190a70\\\"\r\n",
       "      },\r\n",
       "      \\\"zSize\\\": {\r\n",
       "        \\\"start\\\": -2.5,\r\n",
       "        \\\"end\\\": 2.5,\r\n",
       "        \\\"totalChildrenCount\\\": 0,\r\n",
       "        \\\"applicationId\\\": null,\r\n",
       "        \\\"speckle_type\\\": \\\"Objects.Primitive.Interval\\\",\r\n",
       "        \\\"id\\\": \\\"fcc257753d387b8c1fe06c5e51320e90\\\"\r\n",
       "      },\r\n",
       "      \\\"bbox\\\": null,\r\n",
       "      \\\"area\\\": 228.72000000000003,\r\n",
       "      \\\"volume\\\": 226.80000000000004,\r\n",
       "      \\\"units\\\": \\\"m\\\",\r\n",
       "      \\\"totalChildrenCount\\\": 0,\r\n",
       "      \\\"applicationId\\\": null,\r\n",
       "      \\\"speckle_type\\\": \\\"Objects.Geometry.Box\\\",\r\n",
       "      \\\"id\\\": \\\"347eef1b72b157b3a55c71667b366a09\\\"\r\n",
       "}\"\"\"^^se:box ; \r\n",
       "                     se:unit \"m\"];\r\n",
       "       a se:Artifact,\r\n",
       "         se:Type;\r\n",
       "       rdfs:comment \"A one person apartment box capsule.\";\r\n",
       "       rdfs:label \"Box Capsule\";\r\n",
       "       se:symbol \"📦\".\r\n",
       "mba:mb a se:Archive;\r\n",
       "       rdfs:label \"Metabolism\";\r\n",
       "       se:design ctd:ct;\r\n",
       "       se:type bct:bc,\r\n",
       "               bcmt:bcm.\r\n"
      ]
     },
     "metadata": {},
     "output_type": "display_data"
    }
   ],
   "source": [
    "IGraph a = new Graph();\n",
    "FileLoader.Load(a,@\"C:\\git\\semio\\examples\\metabolism\\.semio\\archive.ttl\");\n",
    "FileLoader.Load(a,@\"C:\\git\\semio\\examples\\metabolism\\.semio\\types\\bc.ttl\");\n",
    "var writer = new CompressingTurtleWriter();\n",
    "String data = StringWriter.Write(a, writer);\n",
    "data"
   ]
  },
  {
   "cell_type": "code",
   "execution_count": 34,
   "metadata": {
    "dotnet_interactive": {
     "language": "csharp"
    },
    "polyglot_notebook": {
     "kernelName": "csharp"
    },
    "vscode": {
     "languageId": "polyglot-notebook"
    }
   },
   "outputs": [
    {
     "data": {
      "text/plain": [
       "@prefix rdf: <http://www.w3.org/1999/02/22-rdf-syntax-ns#>.\r\n",
       "@prefix rdfs: <http://www.w3.org/2000/01/rdf-schema#>.\r\n",
       "@prefix xsd: <http://www.w3.org/2001/XMLSchema#>.\r\n",
       "@prefix : <https://examples.com/foo/>.\r\n",
       "\r\n",
       "<https://examples.com/foo/bar> <https://examples.com/foo/baz> <https://examples.com/foo/qux>.\r\n"
      ]
     },
     "metadata": {},
     "output_type": "display_data"
    }
   ],
   "source": [
    "IGraph a = new Graph();\n",
    "StringParser.Parse(a,@\"\n",
    "@prefix : <https://examples.com/foo/> .\n",
    ":bar :baz :qux .\");\n",
    "// a.BaseUri = new Uri(\"https://examples.com/foobar/\");\n",
    "var writer = new CompressingTurtleWriter();\n",
    "String data = StringWriter.Write(a, writer);\n",
    "data"
   ]
  }
 ],
 "metadata": {
  "language_info": {
   "name": "python"
  },
  "orig_nbformat": 4
 },
 "nbformat": 4,
 "nbformat_minor": 2
}
